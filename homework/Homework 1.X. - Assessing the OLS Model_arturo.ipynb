{
 "cells": [
  {
   "cell_type": "markdown",
   "id": "a05f2840",
   "metadata": {},
   "source": [
    "# Homework 1.X. - Assessing the OLS Model\n",
    "## Data Analysis\n",
    "### FINM August Review \n",
    "\n",
    "Mark Hendricks\n",
    "\n",
    "hendricks@uchicago.edu"
   ]
  },
  {
   "cell_type": "markdown",
   "id": "2efd9849",
   "metadata": {},
   "source": [
    "# 1 Multivariate Regression"
   ]
  },
  {
   "cell_type": "markdown",
   "id": "1542cfce",
   "metadata": {},
   "source": [
    "This problem utilizes the data in `../data/multi_asset_etf_data.xlsx`.\n",
    "* Return data on various asset classes.\n",
    "* This data comes via ETFs, which we will discuss in the Markets series."
   ]
  },
  {
   "cell_type": "code",
   "execution_count": 2,
   "id": "0f088570",
   "metadata": {},
   "outputs": [],
   "source": [
    "# PACKAGES\n",
    "import pandas as pd\n",
    "import numpy as np\n",
    "from sklearn.linear_model import LinearRegression\n",
    "from sklearn.metrics import r2_score\n",
    "import seaborn as sn\n",
    "# Read the data\n",
    "etf_returns = pd.DataFrame(pd.read_excel(r'../data/multi_asset_etf_data.xlsx', sheet_name= 'total returns'))\n"
   ]
  },
  {
   "cell_type": "markdown",
   "id": "4d91dc44",
   "metadata": {},
   "source": [
    "## 1.1 Correlation\n",
    "\n",
    "Calculate and display the correlation matrix of the returns.\n",
    "\n",
    "Consider displaying it with `seaborn.heatmap`.\n",
    "\n",
    "Which pair has the highest correlation? And the smallest (most negative)?"
   ]
  },
  {
   "cell_type": "code",
   "execution_count": 3,
   "id": "f86e5959",
   "metadata": {},
   "outputs": [
    {
     "ename": "TypeError",
     "evalue": "float() argument must be a string or a real number, not 'Timestamp'",
     "output_type": "error",
     "traceback": [
      "\u001b[0;31m---------------------------------------------------------------------------\u001b[0m",
      "\u001b[0;31mTypeError\u001b[0m                                 Traceback (most recent call last)",
      "Cell \u001b[0;32mIn[3], line 1\u001b[0m\n\u001b[0;32m----> 1\u001b[0m \u001b[43msn\u001b[49m\u001b[38;5;241;43m.\u001b[39;49m\u001b[43mheatmap\u001b[49m\u001b[43m(\u001b[49m\u001b[43metf_returns\u001b[49m\u001b[43m)\u001b[49m\n",
      "File \u001b[0;32m~/.pyenv/versions/3.11.0/lib/python3.11/site-packages/seaborn/matrix.py:446\u001b[0m, in \u001b[0;36mheatmap\u001b[0;34m(data, vmin, vmax, cmap, center, robust, annot, fmt, annot_kws, linewidths, linecolor, cbar, cbar_kws, cbar_ax, square, xticklabels, yticklabels, mask, ax, **kwargs)\u001b[0m\n\u001b[1;32m    365\u001b[0m \u001b[38;5;250m\u001b[39m\u001b[38;5;124;03m\"\"\"Plot rectangular data as a color-encoded matrix.\u001b[39;00m\n\u001b[1;32m    366\u001b[0m \n\u001b[1;32m    367\u001b[0m \u001b[38;5;124;03mThis is an Axes-level function and will draw the heatmap into the\u001b[39;00m\n\u001b[0;32m   (...)\u001b[0m\n\u001b[1;32m    443\u001b[0m \n\u001b[1;32m    444\u001b[0m \u001b[38;5;124;03m\"\"\"\u001b[39;00m\n\u001b[1;32m    445\u001b[0m \u001b[38;5;66;03m# Initialize the plotter object\u001b[39;00m\n\u001b[0;32m--> 446\u001b[0m plotter \u001b[38;5;241m=\u001b[39m \u001b[43m_HeatMapper\u001b[49m\u001b[43m(\u001b[49m\u001b[43mdata\u001b[49m\u001b[43m,\u001b[49m\u001b[43m \u001b[49m\u001b[43mvmin\u001b[49m\u001b[43m,\u001b[49m\u001b[43m \u001b[49m\u001b[43mvmax\u001b[49m\u001b[43m,\u001b[49m\u001b[43m \u001b[49m\u001b[43mcmap\u001b[49m\u001b[43m,\u001b[49m\u001b[43m \u001b[49m\u001b[43mcenter\u001b[49m\u001b[43m,\u001b[49m\u001b[43m \u001b[49m\u001b[43mrobust\u001b[49m\u001b[43m,\u001b[49m\u001b[43m \u001b[49m\u001b[43mannot\u001b[49m\u001b[43m,\u001b[49m\u001b[43m \u001b[49m\u001b[43mfmt\u001b[49m\u001b[43m,\u001b[49m\n\u001b[1;32m    447\u001b[0m \u001b[43m                      \u001b[49m\u001b[43mannot_kws\u001b[49m\u001b[43m,\u001b[49m\u001b[43m \u001b[49m\u001b[43mcbar\u001b[49m\u001b[43m,\u001b[49m\u001b[43m \u001b[49m\u001b[43mcbar_kws\u001b[49m\u001b[43m,\u001b[49m\u001b[43m \u001b[49m\u001b[43mxticklabels\u001b[49m\u001b[43m,\u001b[49m\n\u001b[1;32m    448\u001b[0m \u001b[43m                      \u001b[49m\u001b[43myticklabels\u001b[49m\u001b[43m,\u001b[49m\u001b[43m \u001b[49m\u001b[43mmask\u001b[49m\u001b[43m)\u001b[49m\n\u001b[1;32m    450\u001b[0m \u001b[38;5;66;03m# Add the pcolormesh kwargs here\u001b[39;00m\n\u001b[1;32m    451\u001b[0m kwargs[\u001b[38;5;124m\"\u001b[39m\u001b[38;5;124mlinewidths\u001b[39m\u001b[38;5;124m\"\u001b[39m] \u001b[38;5;241m=\u001b[39m linewidths\n",
      "File \u001b[0;32m~/.pyenv/versions/3.11.0/lib/python3.11/site-packages/seaborn/matrix.py:163\u001b[0m, in \u001b[0;36m_HeatMapper.__init__\u001b[0;34m(self, data, vmin, vmax, cmap, center, robust, annot, fmt, annot_kws, cbar, cbar_kws, xticklabels, yticklabels, mask)\u001b[0m\n\u001b[1;32m    160\u001b[0m \u001b[38;5;28mself\u001b[39m\u001b[38;5;241m.\u001b[39mylabel \u001b[38;5;241m=\u001b[39m ylabel \u001b[38;5;28;01mif\u001b[39;00m ylabel \u001b[38;5;129;01mis\u001b[39;00m \u001b[38;5;129;01mnot\u001b[39;00m \u001b[38;5;28;01mNone\u001b[39;00m \u001b[38;5;28;01melse\u001b[39;00m \u001b[38;5;124m\"\u001b[39m\u001b[38;5;124m\"\u001b[39m\n\u001b[1;32m    162\u001b[0m \u001b[38;5;66;03m# Determine good default values for the colormapping\u001b[39;00m\n\u001b[0;32m--> 163\u001b[0m \u001b[38;5;28;43mself\u001b[39;49m\u001b[38;5;241;43m.\u001b[39;49m\u001b[43m_determine_cmap_params\u001b[49m\u001b[43m(\u001b[49m\u001b[43mplot_data\u001b[49m\u001b[43m,\u001b[49m\u001b[43m \u001b[49m\u001b[43mvmin\u001b[49m\u001b[43m,\u001b[49m\u001b[43m \u001b[49m\u001b[43mvmax\u001b[49m\u001b[43m,\u001b[49m\n\u001b[1;32m    164\u001b[0m \u001b[43m                            \u001b[49m\u001b[43mcmap\u001b[49m\u001b[43m,\u001b[49m\u001b[43m \u001b[49m\u001b[43mcenter\u001b[49m\u001b[43m,\u001b[49m\u001b[43m \u001b[49m\u001b[43mrobust\u001b[49m\u001b[43m)\u001b[49m\n\u001b[1;32m    166\u001b[0m \u001b[38;5;66;03m# Sort out the annotations\u001b[39;00m\n\u001b[1;32m    167\u001b[0m \u001b[38;5;28;01mif\u001b[39;00m annot \u001b[38;5;129;01mis\u001b[39;00m \u001b[38;5;28;01mNone\u001b[39;00m \u001b[38;5;129;01mor\u001b[39;00m annot \u001b[38;5;129;01mis\u001b[39;00m \u001b[38;5;28;01mFalse\u001b[39;00m:\n",
      "File \u001b[0;32m~/.pyenv/versions/3.11.0/lib/python3.11/site-packages/seaborn/matrix.py:197\u001b[0m, in \u001b[0;36m_HeatMapper._determine_cmap_params\u001b[0;34m(self, plot_data, vmin, vmax, cmap, center, robust)\u001b[0m\n\u001b[1;32m    194\u001b[0m \u001b[38;5;250m\u001b[39m\u001b[38;5;124;03m\"\"\"Use some heuristics to set good defaults for colorbar and range.\"\"\"\u001b[39;00m\n\u001b[1;32m    196\u001b[0m \u001b[38;5;66;03m# plot_data is a np.ma.array instance\u001b[39;00m\n\u001b[0;32m--> 197\u001b[0m calc_data \u001b[38;5;241m=\u001b[39m \u001b[43mplot_data\u001b[49m\u001b[38;5;241;43m.\u001b[39;49m\u001b[43mastype\u001b[49m\u001b[43m(\u001b[49m\u001b[38;5;28;43mfloat\u001b[39;49m\u001b[43m)\u001b[49m\u001b[38;5;241m.\u001b[39mfilled(np\u001b[38;5;241m.\u001b[39mnan)\n\u001b[1;32m    198\u001b[0m \u001b[38;5;28;01mif\u001b[39;00m vmin \u001b[38;5;129;01mis\u001b[39;00m \u001b[38;5;28;01mNone\u001b[39;00m:\n\u001b[1;32m    199\u001b[0m     \u001b[38;5;28;01mif\u001b[39;00m robust:\n",
      "\u001b[0;31mTypeError\u001b[0m: float() argument must be a string or a real number, not 'Timestamp'"
     ]
    }
   ],
   "source": [
    "sn.heatmap(etf_returns)"
   ]
  },
  {
   "cell_type": "markdown",
   "id": "674dca5d",
   "metadata": {},
   "source": [
    "## 1.2 Multivariate Regression\n",
    "\n",
    "Suppose that we want to decompose `PSP` into a linear combination of other asset classes.\n",
    "* `PSP` is a benchmark of private equity returns.\n",
    "* There is substantial research (and controversy) as to whether private equity returns can be produced from other simple assets.\n",
    "* We will see.\n",
    "\n",
    "$$r_t^{\\text{PSP}} = \\alpha + \\boldsymbol{\\beta}\\boldsymbol{r}_t + \\epsilon_t$$\n",
    "\n",
    "where $\\boldsymbol{r}_t$ denotes the vector of all the other returns (excluding PSP) at time $t$.\n",
    "\n",
    "Report\n",
    "* the estimated alpha\n",
    "* the estimated betas\n",
    "* the r-squared\n",
    "\n",
    "#### Python tip\n",
    "Consider forming `X = rets.drop(columns=['PSP'])`.\n",
    "\n",
    "Consider using one of the following for the regression.\n",
    "* `statsmodels.OLS`\n",
    "* `sklearn.linear_models.LinearRegression()`\n",
    "\n",
    "The former will include various regression statistics. The latter will just produce the estimates."
   ]
  },
  {
   "cell_type": "markdown",
   "id": "79075b77",
   "metadata": {},
   "source": [
    "## 1.3 Interpretation\n",
    "\n",
    "Based on your estimates, do you think it is feasible to replicate `PSP` with these other assets? Be specific, citing your answers to the previous question. What does $\\alpha$ indicate? What does the r-squared statistic indicate?"
   ]
  },
  {
   "cell_type": "markdown",
   "id": "b5c6a298",
   "metadata": {},
   "source": [
    "## 1.4 Multicollinearity\n",
    "\n",
    "Should we be worried about multicollinearity in this case?\n",
    "\n",
    "Calculate some metrics about $X'X$, (noting that in our case \"$X$\" is the array of return data, excluding `PSP`.\n",
    "\n",
    "* determinant\n",
    "* conditioning number\n",
    "\n",
    "What do these metrics indicate?\n",
    "\n",
    "#### Python tip\n",
    "You may find these `numpy` functions helpful:\n",
    "* `numpy.linalg.cond()`\n",
    "* `numpy.linalg.det()`"
   ]
  },
  {
   "cell_type": "markdown",
   "id": "0a4ddae7",
   "metadata": {},
   "source": [
    "## 1.5 Impact of multicollinearity\n",
    "\n",
    "With multicollinearity, we are concerned that the regression estimates\n",
    "* are imprecise.\n",
    "* will change a lot in response to small changes in new data.\n",
    "* will perform badly out of sample.\n",
    "\n",
    "To investigate...\n",
    "* report the t-stats of the betas"
   ]
  },
  {
   "cell_type": "markdown",
   "id": "36e721fd",
   "metadata": {},
   "source": [
    "## 1.X Extra: \n",
    "Estimate the regression, but this time using only data through 2019. \n",
    "* Apply these estimated betas to the data in 2020-2022 to construct the replication of `PSP` ($\\hat{y}$) out of sample.\n",
    "* What is the correlation of PSP in 2020-2022 versus this out-of-sample regression estimate?\n",
    "\n",
    "Graph `PSP` against the regression estimate, both through 2019 (in sample) and 2020-2022 (out of sample.)"
   ]
  },
  {
   "cell_type": "markdown",
   "id": "f0176286",
   "metadata": {},
   "source": [
    "# Appendix: Condition number of a matrix\n",
    "\n",
    "$\\newcommand{\\olsb}{\\boldsymbol{b}}$\n",
    "$\\newcommand{\\olsy}{\\boldsymbol{y}}$\n",
    "\n",
    "Consider the linear equation\n",
    "\n",
    "$$\\olsy = a + X\\olsb + e$$\n",
    "\n",
    "Solving for $\\olsb$,\n",
    "$$(X'X)\\olsb = X'\\olsy$$\n",
    "\n",
    "Denote the condition number of $X'X$ as $\\kappa$.\n",
    "\n",
    "Then,\n",
    "$$\\frac{||\\delta \\olsb||}{||\\olsb||} \\le \\kappa \\frac{||\\delta X'\\olsy||}{||X'\\olsy||}$$\n",
    "\n",
    "#### This says that \n",
    "- estimation error of size $\\delta$ in the covariation of $X$ and $\\olsy$ \n",
    "- will lead to errors up to size $\\kappa\\delta$ in the estimation of $\\olsb$."
   ]
  },
  {
   "cell_type": "markdown",
   "id": "019ffe54-78ce-4060-8431-35f12ede6aac",
   "metadata": {},
   "source": [
    "***"
   ]
  },
  {
   "cell_type": "markdown",
   "id": "ca21fd90",
   "metadata": {},
   "source": [
    "# 2 Heteroskedasticity \\& Serial Correlation"
   ]
  },
  {
   "cell_type": "markdown",
   "id": "3cca4338",
   "metadata": {},
   "source": [
    "$$\\newcommand{\\rspyt}{r_{\\text{spy}}}$$\n",
    "$$\\newcommand{\\rspyt}{r_{\\text{spy},t}}$$"
   ]
  },
  {
   "cell_type": "markdown",
   "id": "8d4ed480",
   "metadata": {},
   "source": [
    "## Data\n",
    "\n",
    "This problem uses the file, `../data/spy_rates_data.xlsx`.\n",
    "* Return rates for SPY, the return on the S\\&P 500. Denote this as $\\rspyt$.\n",
    "* Dividend-price ratio for the S\\&P 500.\n",
    "* 10-year yields on US Treasuries."
   ]
  },
  {
   "cell_type": "markdown",
   "id": "c6e0c373",
   "metadata": {},
   "source": [
    "## 2.1\n",
    "Use linear regression to calculate whether S\\&P 500 returns (SPY) are impacted by 10-year yields and the dividend-price ratio.\n",
    "\n",
    "$$\\begin{align}\n",
    "\\rspyt = \\alpha + \\boldsymbol{\\beta}'\\boldsymbol{X}_t + \\epsilon_t\n",
    "\\label{eq:spy_on_macro}\n",
    "\\end{align}$$\n",
    "\n",
    "where $\\boldsymbol{X}$ denotes the matrix of values of the 10-year-yield and the dividend-price ratio.\n",
    "\n",
    "Report the betas."
   ]
  },
  {
   "cell_type": "markdown",
   "id": "629fdc00",
   "metadata": {},
   "source": [
    "## 2.2\n",
    "Try using `statsmodels.OLS` to estimate the regression, and print the \"summary\" of the results which will show the t-stats, p-values, etc. Are either of the regressors are statistically significant?"
   ]
  },
  {
   "cell_type": "markdown",
   "id": "583757ae",
   "metadata": {},
   "source": [
    "## 2.3\n",
    "Calculate the correlation between the sample residuals, $e_t$, and their lagged value, $e_{t-1}$. Are they highly correlated? You may find it helpful to use .shift in pandas to get the lagged series."
   ]
  },
  {
   "cell_type": "markdown",
   "id": "1939464a",
   "metadata": {},
   "source": [
    "## 2.4\n",
    "Calculate the regression of\n",
    "$$e_t = \\alpha + \\boldsymbol{\\beta}'\\boldsymbol{X}_t + u_t$$\n",
    "\n",
    "## 2.5\n",
    "What do the previous two calculations have to do with identifying serial correlation and heteroskedasticity?"
   ]
  }
 ],
 "metadata": {
  "hide_input": false,
  "kernelspec": {
   "display_name": "Python 3 (ipykernel)",
   "language": "python",
   "name": "python3"
  },
  "language_info": {
   "codemirror_mode": {
    "name": "ipython",
    "version": 3
   },
   "file_extension": ".py",
   "mimetype": "text/x-python",
   "name": "python",
   "nbconvert_exporter": "python",
   "pygments_lexer": "ipython3",
   "version": "3.11.0"
  }
 },
 "nbformat": 4,
 "nbformat_minor": 5
}
