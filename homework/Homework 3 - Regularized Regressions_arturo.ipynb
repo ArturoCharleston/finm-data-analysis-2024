{
 "cells": [
  {
   "cell_type": "markdown",
   "id": "a86bc78a",
   "metadata": {},
   "source": [
    "# Homework 3 - Regularized Regression\n",
    "\n",
    "## Data Analysis\n",
    "### FINM August Review\n",
    "#### Mark Hendricks\n",
    "#### hendricks@uchicago.edu"
   ]
  },
  {
   "cell_type": "markdown",
   "id": "e7358f94-49f0-4b6f-8f48-5327445ca683",
   "metadata": {},
   "source": [
    "***"
   ]
  },
  {
   "cell_type": "markdown",
   "id": "695f4428",
   "metadata": {},
   "source": [
    "# Penalized Regression"
   ]
  },
  {
   "cell_type": "code",
   "execution_count": 3,
   "id": "9b694517",
   "metadata": {},
   "outputs": [],
   "source": [
    "import pandas as pd\n",
    "import numpy as np\n",
    "from sklearn import linear_model\n",
    "import sklearn.metrics\n",
    "import statsmodels as sm\n",
    "from matplotlib import pyplot as plt"
   ]
  },
  {
   "cell_type": "markdown",
   "id": "54679f33",
   "metadata": {},
   "source": [
    "$$\\newcommand{\\nsecs}{450}$$\n",
    "$$\\newcommand{\\target}{GLD}$$\n",
    "$$\\newcommand{\\spy}{\\text{spy}}$$\n",
    "$$\\newcommand{\\hyg}{\\text{hyg}}$$\n",
    "\n",
    "## Data\n",
    "* This homework uses the file, `data/spx_weekly_returns_single_names.xlsx`.\n",
    "* Find the data in the Github repo associated with the module, (link on Canvas.)\n",
    "\n",
    "The data file contains...\n",
    "* Return rates, $r^{\\target}_t$, for the \\target, (an ETF,) which tracks the returns on gold.\n",
    "* Return rates, $r^i_t$, for $\\nsecs$ single-name equities. \n",
    "\n",
    "#### Note\n",
    "These are less than 500 return series in the sample due to filtering out securities with insufficient return histories."
   ]
  },
  {
   "cell_type": "code",
   "execution_count": 4,
   "id": "fad5ae04",
   "metadata": {},
   "outputs": [],
   "source": [
    "rets_spx = pd.DataFrame(pd.read_excel(\"../data/spx_returns_single_names.xlsx\", sheet_name=\"s&p500 rets\")).set_index(\"date\")\n",
    "rets_bench = pd.DataFrame(pd.read_excel(\"../data/spx_returns_single_names.xlsx\", sheet_name=\"benchmark rets\")).set_index(\"date\")"
   ]
  },
  {
   "cell_type": "markdown",
   "id": "54a05ac6",
   "metadata": {},
   "source": [
    "## Model\n",
    "Consider a regression of $\\target$, denoted $r^{\\target}$, on all $\\nsecs$ returns of the S&P 500 stocks.\n",
    "\n",
    "$$\n",
    "r^{\\target}_t = \\alpha + \\sum_{j=1}^k \\beta^j r^j_t + \\epsilon_t\n",
    "\\label{eq:REG}\n",
    "$$\n",
    "\n",
    "We refer to this equation below as the `MODEL`."
   ]
  },
  {
   "cell_type": "markdown",
   "id": "6d7e7846-5086-4950-a42d-4186fe051913",
   "metadata": {},
   "source": [
    "***"
   ]
  },
  {
   "cell_type": "markdown",
   "id": "5b0ff294",
   "metadata": {},
   "source": [
    "# 1. \n",
    "\n",
    "Estimate the `MODEL` with OLS.\n",
    "\n",
    "#### Note\n",
    "For this OLS estimation, along with the estimations below, try using scikit-learn in Python\n",
    "\n",
    "`from sklearn import LinearRegression Lasso Ridge`\n",
    "\n",
    "For OLS specifically, try\n",
    "\n",
    "`model_ols = LinearRegression().fit(X,y)`\n"
   ]
  },
  {
   "cell_type": "code",
   "execution_count": 5,
   "id": "50fec1d9",
   "metadata": {},
   "outputs": [],
   "source": [
    "model_ols = linear_model.LinearRegression(fit_intercept=True).fit(rets_spx, rets_bench[['GLD']])"
   ]
  },
  {
   "cell_type": "markdown",
   "id": "d3b5b592",
   "metadata": {},
   "source": [
    "### 1.1. \n",
    "Report the R-squared.\n"
   ]
  },
  {
   "cell_type": "code",
   "execution_count": 6,
   "id": "5a0c3e60",
   "metadata": {},
   "outputs": [
    {
     "name": "stdout",
     "output_type": "stream",
     "text": [
      "R-squared: 1.0000\n"
     ]
    }
   ],
   "source": [
    "# Predict values\n",
    "predictions = model_ols.predict(rets_spx)\n",
    "\n",
    "# Calculate R-squared\n",
    "r2_ols = sklearn.metrics.r2_score(rets_bench[['GLD']], predictions)\n",
    "\n",
    "print(f\"R-squared: {r2_ols:.4f}\")\n"
   ]
  },
  {
   "cell_type": "markdown",
   "id": "364deb95",
   "metadata": {},
   "source": [
    "### 1.2. \n",
    "Which factors have the largest betas in explaining $r^{\\target}$?\n"
   ]
  },
  {
   "cell_type": "code",
   "execution_count": 7,
   "id": "a59c11d2",
   "metadata": {},
   "outputs": [
    {
     "name": "stdout",
     "output_type": "stream",
     "text": [
      "5 largest betas:\n"
     ]
    },
    {
     "data": {
      "text/plain": [
       "AEP   -0.804002\n",
       "TT    -0.594463\n",
       "LMT    0.577376\n",
       "AEE    0.556533\n",
       "T     -0.482145\n",
       "Name: Beta, dtype: float64"
      ]
     },
     "execution_count": 7,
     "metadata": {},
     "output_type": "execute_result"
    }
   ],
   "source": [
    "betas = model_ols.coef_\n",
    "betas_df = pd.DataFrame(betas, columns=rets_spx.columns, index=['Beta']).T\n",
    "\n",
    "print(\"5 largest betas:\")\n",
    "betas_df.loc[betas_df['Beta'].abs().sort_values(ascending=False).index, 'Beta'].head(5)\n"
   ]
  },
  {
   "cell_type": "markdown",
   "id": "50709bc9",
   "metadata": {},
   "source": [
    "### 1.3. \n",
    "Calculate $\\beta^j \\sigma^j$ for each regressor. Which of these is largest in magnitude, and thus most influential in explaining $r^{\\target}$?\n",
    "\n",
    "#### Note\n",
    "The beta being large may simply be because the regressor volatility is small. By scaling by the volatility, we get a better idea of which regressor is driving the most variation.\n"
   ]
  },
  {
   "cell_type": "code",
   "execution_count": 8,
   "id": "f3060ba5",
   "metadata": {},
   "outputs": [
    {
     "name": "stdout",
     "output_type": "stream",
     "text": [
      "These are the 5 largest betas; adjusted by volatility\n"
     ]
    },
    {
     "data": {
      "text/plain": [
       "AEP    -0.024883\n",
       "TT     -0.023143\n",
       "COF     0.019766\n",
       "WELL    0.019457\n",
       "DFS    -0.019068\n",
       "Name: beta_sigma, dtype: float64"
      ]
     },
     "execution_count": 8,
     "metadata": {},
     "output_type": "execute_result"
    }
   ],
   "source": [
    "# Calculate sigma for each regressor\n",
    "betas_df['sigma'] = rets_spx.std()\n",
    "betas_df['beta_sigma'] = betas_df['Beta']*betas_df['sigma']\n",
    "\n",
    "print(\"These are the 5 largest betas; adjusted by volatility\")\n",
    "#betas_df.abs().sort_values(by='beta_sigma', ascending=False).head(5)\n",
    "betas_df.loc[betas_df['beta_sigma'].abs().sort_values(ascending=False).index, 'beta_sigma'].head(5)\n"
   ]
  },
  {
   "cell_type": "markdown",
   "id": "7d1a56e9",
   "metadata": {},
   "source": [
    "We can note that AEP and TT are still the largest beta, but the next three largest betas are different"
   ]
  },
  {
   "cell_type": "markdown",
   "id": "f95fb1bf",
   "metadata": {},
   "source": [
    "### 1.4. \n",
    "Report the matrix condition number of $R'R$, where $R$ denotes the matrix of single-name equity return data. Why should this condition number give us pause about trusting the OLS estimates out-of-sample?\n",
    "\n",
    "#### Note\n",
    "To get the matrix condition number, consider using, in Python, `numpy.linalg.cond()`."
   ]
  },
  {
   "cell_type": "code",
   "execution_count": 9,
   "id": "e56bd18b",
   "metadata": {},
   "outputs": [
    {
     "name": "stdout",
     "output_type": "stream",
     "text": [
      "The estimated matrix condition number is 26444718373225488384.0000\n"
     ]
    }
   ],
   "source": [
    "print(f\"The estimated matrix condition number is {np.linalg.cond(rets_spx.T @ rets_spx):.4f}\")\n"
   ]
  },
  {
   "cell_type": "markdown",
   "id": "22c72108",
   "metadata": {},
   "source": [
    "The condition number of a function measures how much the output value of the function can change for a small change in the input argument. In this case, our condition number is small ~ 2.6, so this means that the output doesn't change too much with changes in the inputs. This can give us pause about trusting the OLS estimates out of sample because we found that they won't change that much."
   ]
  },
  {
   "cell_type": "markdown",
   "id": "e05e923a",
   "metadata": {},
   "source": [
    "#  2. \n",
    "\n",
    "Estimate `MODEL` with Ridge Regression. \n",
    "* Use a penalty of `ALPHA=0.5` in the estimation.\n",
    "* Try using `est = Ridge(alpha=ALPHA).fit(X,y)`\n",
    "\n"
   ]
  },
  {
   "cell_type": "code",
   "execution_count": 10,
   "id": "cb58468c",
   "metadata": {},
   "outputs": [],
   "source": [
    "ALPHA = 0.5\n",
    "est_ridge = linear_model.Ridge(alpha = ALPHA).fit(rets_spx, rets_bench[['GLD']])"
   ]
  },
  {
   "cell_type": "markdown",
   "id": "0585f470",
   "metadata": {},
   "source": [
    "### 2.1.\n",
    "Report the R-squared."
   ]
  },
  {
   "cell_type": "code",
   "execution_count": 11,
   "id": "3cacb0e7",
   "metadata": {},
   "outputs": [
    {
     "name": "stdout",
     "output_type": "stream",
     "text": [
      "The estimated R-Squared is 0.7396\n"
     ]
    }
   ],
   "source": [
    "# Use the built in function score\n",
    "r2_ridge = est_ridge.score(rets_spx, rets_bench[['GLD']])\n",
    "print(f\"The estimated R-Squared is {r2_ridge:.4f}\")"
   ]
  },
  {
   "cell_type": "markdown",
   "id": "5b28ab73",
   "metadata": {},
   "source": [
    "### 2.2.\n",
    "Based on $\\beta^j \\sigma^j$, which factor is most influential for $r^{\\target}$?\n"
   ]
  },
  {
   "cell_type": "code",
   "execution_count": 12,
   "id": "3a05ba7a",
   "metadata": {},
   "outputs": [
    {
     "name": "stdout",
     "output_type": "stream",
     "text": [
      "These are the 5 largest betas; adjusted by volatility\n"
     ]
    },
    {
     "data": {
      "text/plain": [
       "NEM     0.005940\n",
       "FCX     0.002148\n",
       "SCHW   -0.001439\n",
       "CCL    -0.001248\n",
       "RJF    -0.001197\n",
       "Name: beta_sigma, dtype: float64"
      ]
     },
     "execution_count": 12,
     "metadata": {},
     "output_type": "execute_result"
    }
   ],
   "source": [
    "betas_ridge = pd.DataFrame(est_ridge.coef_, columns=rets_spx.columns, index=['Beta']).T\n",
    "betas_ridge['sigma'] = rets_spx.std()\n",
    "betas_ridge['beta_sigma'] = betas_ridge['Beta']*betas_ridge['sigma']\n",
    "\n",
    "print(\"These are the 5 largest betas; adjusted by volatility\")\n",
    "betas_ridge.loc[betas_ridge['beta_sigma'].abs().sort_values(ascending=False).index, 'beta_sigma'].head(5)\n"
   ]
  },
  {
   "cell_type": "markdown",
   "id": "095e3416",
   "metadata": {},
   "source": [
    "### 2.3.\n",
    "Report the matrix condition number of the $R'R$.\n"
   ]
  },
  {
   "cell_type": "code",
   "execution_count": 13,
   "id": "aa90c568",
   "metadata": {},
   "outputs": [
    {
     "name": "stdout",
     "output_type": "stream",
     "text": [
      "The estimated matrix condition number is 307.5445419148743\n"
     ]
    }
   ],
   "source": [
    "#print(f\"The estimated matrix condition number is {np.linalg.cond(rets_spx.T @ rets_spx)}\")\n",
    "\n",
    "# Test\n",
    "mat_cond_ridge = np.linalg.cond(rets_spx.T @ rets_spx + np.diag(np.ones(rets_spx.shape[1])) * ALPHA)\n",
    "print(f\"The estimated matrix condition number is {mat_cond_ridge}\")"
   ]
  },
  {
   "cell_type": "markdown",
   "id": "3fe611e6",
   "metadata": {},
   "source": [
    "### 2.4.\n",
    "How many regressors have a non-zero beta estimates? "
   ]
  },
  {
   "cell_type": "code",
   "execution_count": 14,
   "id": "6462c0c0",
   "metadata": {},
   "outputs": [
    {
     "name": "stdout",
     "output_type": "stream",
     "text": [
      "446 have a non-zero beta estimate, that is, all parameters.\n"
     ]
    }
   ],
   "source": [
    "print(f\"{np.sum(betas_ridge['Beta']!= 0)} have a non-zero beta estimate, that is, all parameters.\")"
   ]
  },
  {
   "cell_type": "markdown",
   "id": "33814ad6",
   "metadata": {},
   "source": [
    "This is expected because the functional form of ridge regression used L2 shrinkage, so you won't have any parameter with a zero beta estimate."
   ]
  },
  {
   "cell_type": "markdown",
   "id": "4bd6fb76-91eb-439a-8560-ff81fe85326b",
   "metadata": {},
   "source": [
    "***"
   ]
  },
  {
   "cell_type": "markdown",
   "id": "b869ec06-d7f9-490b-aca8-488fd5328687",
   "metadata": {},
   "source": [
    "# 3. \n",
    "\n",
    "Estimate `MODEL` with LASSO Regression. \n",
    "* Use a penalty of `ALPHA=7e-5` in the estimation.\n",
    "* Try using `est = Lasso(alpha=ALPHA).fit(X,y)`\n",
    "\n"
   ]
  },
  {
   "cell_type": "code",
   "execution_count": 15,
   "id": "b4681bb1",
   "metadata": {},
   "outputs": [],
   "source": [
    "ALPHA = 7e-5\n",
    "est_lasso = linear_model.Lasso(alpha=ALPHA).fit(rets_spx, rets_bench[['GLD']])"
   ]
  },
  {
   "cell_type": "markdown",
   "id": "f9228dea",
   "metadata": {},
   "source": [
    "### 3.1.\n",
    "Report the R-squared."
   ]
  },
  {
   "cell_type": "code",
   "execution_count": 16,
   "id": "a150a455",
   "metadata": {},
   "outputs": [
    {
     "name": "stdout",
     "output_type": "stream",
     "text": [
      "The estimated R-Squared is 0.5497\n"
     ]
    }
   ],
   "source": [
    "# Use the built in function score\n",
    "r2_lasso = est_lasso.score(rets_spx, rets_bench[['GLD']])\n",
    "print(f\"The estimated R-Squared is {r2_lasso:.4f}\")"
   ]
  },
  {
   "cell_type": "markdown",
   "id": "4d20c5d2",
   "metadata": {},
   "source": [
    "### 3.2.\n",
    "Based on $\\beta^j \\sigma^j$, which factor is most influential for $r^{\\target}$?\n"
   ]
  },
  {
   "cell_type": "code",
   "execution_count": 17,
   "id": "ec49175a",
   "metadata": {},
   "outputs": [
    {
     "name": "stdout",
     "output_type": "stream",
     "text": [
      "These are the 5 largest betas; adjusted by volatility\n"
     ]
    },
    {
     "data": {
      "text/plain": [
       "NEM     0.011731\n",
       "SCHW   -0.001231\n",
       "ENPH    0.001149\n",
       "BA      0.000771\n",
       "RJF    -0.000593\n",
       "Name: beta_sigma, dtype: float64"
      ]
     },
     "execution_count": 17,
     "metadata": {},
     "output_type": "execute_result"
    }
   ],
   "source": [
    "betas_lasso = pd.DataFrame(est_lasso.coef_.flatten(), columns=['Beta'], index=rets_spx.columns)\n",
    "\n",
    "betas_lasso['sigma'] = rets_spx.std()\n",
    "betas_lasso['beta_sigma'] = betas_lasso['Beta']*betas_lasso['sigma']\n",
    "\n",
    "print(\"These are the 5 largest betas; adjusted by volatility\")\n",
    "betas_lasso.loc[betas_lasso['beta_sigma'].abs().sort_values(ascending=False).index, 'beta_sigma'].head(5)\n"
   ]
  },
  {
   "cell_type": "markdown",
   "id": "1cb4b8bf",
   "metadata": {},
   "source": [
    "### 3.3.\n",
    "Report the matrix condition number of the $R'R$.\n"
   ]
  },
  {
   "cell_type": "code",
   "execution_count": 18,
   "id": "0687ee8d",
   "metadata": {},
   "outputs": [
    {
     "name": "stdout",
     "output_type": "stream",
     "text": [
      "The estimated matrix condition number is 49.1361128052772\n"
     ]
    }
   ],
   "source": [
    "mat_cond_lasso = np.linalg.cond(rets_spx.loc[:,(betas_lasso['Beta']!= 0)].T @ rets_spx.loc[:,(betas_lasso['Beta']!= 0)])\n",
    "print(f\"The estimated matrix condition number is {mat_cond_lasso}\")"
   ]
  },
  {
   "cell_type": "markdown",
   "id": "e2a862da",
   "metadata": {},
   "source": [
    "\n",
    "### 3.4.\n",
    "How many regressors have a non-zero beta estimates? "
   ]
  },
  {
   "cell_type": "code",
   "execution_count": 19,
   "id": "bc7dcf28",
   "metadata": {},
   "outputs": [
    {
     "name": "stdout",
     "output_type": "stream",
     "text": [
      "We have 11 non-zero parameters in the lasso model as expected because LASSO uses a L1 penalization\n"
     ]
    }
   ],
   "source": [
    "print(f\"We have {np.sum(betas_lasso['Beta'] != 0)} non-zero parameters in the lasso model as expected because LASSO uses a L1 penalization\")"
   ]
  },
  {
   "cell_type": "markdown",
   "id": "96f7a7d5-79bf-42c8-a522-624544dc0b7f",
   "metadata": {},
   "source": [
    "***"
   ]
  },
  {
   "cell_type": "markdown",
   "id": "b7171dd5-e56a-4136-920a-974034e72eee",
   "metadata": {},
   "source": [
    "# 4.\n",
    "\n",
    "How do the estimations compare across the three methods?\n"
   ]
  },
  {
   "cell_type": "markdown",
   "id": "c77bb8a3",
   "metadata": {},
   "source": [
    "The estimates differ significantly. For example, the largest coefficients (in absolute value) in the OLS are: AEP, TT, COF, WELL, DFS; while for the regularization models: RIDGE: NEM, FCX, SCHW, CCL, RJF; LASSO: NEM, SCHW, ENPH, BA, RJF. The coefficients are very different, and LASSO only have 11 non-zero betas, while the other regression have non-zero betas for every stock in the SP500. "
   ]
  },
  {
   "cell_type": "markdown",
   "id": "51369e55",
   "metadata": {},
   "source": [
    "### 4.1.\n",
    "Create a histogram of estimated betas across the three methods, (OLS, Ridge, LASSO.) \n",
    "\n",
    "Are they all nonzero? Are there positive and negative values? Do they range widely in magnitude? \n"
   ]
  },
  {
   "cell_type": "code",
   "execution_count": 20,
   "id": "28020258",
   "metadata": {},
   "outputs": [
    {
     "data": {
      "image/png": "[encoded data removed]",
      "text/plain": [
       "<Figure size 1000x600 with 1 Axes>"
      ]
     },
     "metadata": {},
     "output_type": "display_data"
    }
   ],
   "source": [
    "df_betas = pd.DataFrame({\n",
    "    'OLS': betas_df['Beta'],\n",
    "    'Lasso': betas_lasso['Beta'],\n",
    "    'Ridge': betas_ridge['Beta']\n",
    "})\n",
    "\n",
    "# Melt DataFrame for plotting\n",
    "df_melted = df_betas.melt(var_name='Model', value_name='Beta')\n",
    "\n",
    "# Plot histogram\n",
    "plt.figure(figsize=(10, 6))\n",
    "for model in df_betas.columns:\n",
    "    plt.hist(df_betas[model], bins=10, alpha=0.5, label=model)\n",
    "\n",
    "plt.xlabel('Beta Value')\n",
    "plt.ylabel('Frequency')\n",
    "plt.title('Histogram of Betas for OLS, Lasso, and Ridge Models')\n",
    "plt.legend()\n",
    "plt.show()"
   ]
  },
  {
   "cell_type": "markdown",
   "id": "872331be",
   "metadata": {},
   "source": [
    "There are both positive and negative values on all models, and they have a wide range for OLS, while for LASSO and RIDGE they have similar values, that is, a tighter range of values. Ridge and OLS have all non-zero parameters, but LASSO have a lot of zero parameters, as expected. "
   ]
  },
  {
   "cell_type": "markdown",
   "id": "28bf38e1",
   "metadata": {},
   "source": [
    "\n",
    "### 4.2.\n",
    "Which has the largest R-squared? Is this a surprise?"
   ]
  },
  {
   "cell_type": "code",
   "execution_count": 21,
   "id": "799d222a",
   "metadata": {},
   "outputs": [
    {
     "name": "stdout",
     "output_type": "stream",
     "text": [
      "As expected, OLS 1.0 is larger than both RIDGE 0.740 and LASSO 0.550\n"
     ]
    }
   ],
   "source": [
    "print(f\"As expected, OLS {r2_ols} is larger than both RIDGE {r2_ridge:.3f} and LASSO {r2_lasso:.3f}\")"
   ]
  },
  {
   "cell_type": "markdown",
   "id": "5f7b3407-fb24-4747-ba80-3bfb93066424",
   "metadata": {},
   "source": [
    "***"
   ]
  },
  {
   "cell_type": "markdown",
   "id": "5070fcbf-d1dc-4b23-932f-c4ae57e20222",
   "metadata": {},
   "source": [
    "# 5.\n",
    "\n",
    "Try using cross-validation (with K-folds) to estimate the penalty parameter for Ridge and LASSO.\n",
    "\n",
    "Estimate this CV using two functions from  `sklearn.linear_model`\n",
    "* RidgeCV\n",
    "* LassoCV\n",
    "\n",
    "Feel free to use the default parameters, including the default number of folds.\n",
    "\n",
    "Report the CV penalty parameter for Lasso and Ridge."
   ]
  },
  {
   "cell_type": "code",
   "execution_count": 22,
   "id": "288d2917",
   "metadata": {},
   "outputs": [],
   "source": [
    "cv_ridge = sklearn.linear_model.RidgeCV().fit(rets_spx, rets_bench[['GLD']])\n",
    "ridge_penalty = cv_ridge.alpha_\n"
   ]
  },
  {
   "cell_type": "code",
   "execution_count": 23,
   "id": "01ff7bfb",
   "metadata": {},
   "outputs": [
    {
     "name": "stderr",
     "output_type": "stream",
     "text": [
      "/Users/charleston/.pyenv/versions/3.11.0/lib/python3.11/site-packages/sklearn/linear_model/_coordinate_descent.py:1656: DataConversionWarning: A column-vector y was passed when a 1d array was expected. Please change the shape of y to (n_samples, ), for example using ravel().\n",
      "  y = column_or_1d(y, warn=True)\n",
      "/Users/charleston/.pyenv/versions/3.11.0/lib/python3.11/site-packages/sklearn/linear_model/_coordinate_descent.py:697: ConvergenceWarning: Objective did not converge. You might want to increase the number of iterations, check the scale of the features or consider increasing regularisation. Duality gap: 1.733e-05, tolerance: 1.299e-05\n",
      "  model = cd_fast.enet_coordinate_descent(\n",
      "/Users/charleston/.pyenv/versions/3.11.0/lib/python3.11/site-packages/sklearn/linear_model/_coordinate_descent.py:697: ConvergenceWarning: Objective did not converge. You might want to increase the number of iterations, check the scale of the features or consider increasing regularisation. Duality gap: 3.025e-05, tolerance: 1.299e-05\n",
      "  model = cd_fast.enet_coordinate_descent(\n",
      "/Users/charleston/.pyenv/versions/3.11.0/lib/python3.11/site-packages/sklearn/linear_model/_coordinate_descent.py:697: ConvergenceWarning: Objective did not converge. You might want to increase the number of iterations, check the scale of the features or consider increasing regularisation. Duality gap: 3.251e-05, tolerance: 1.299e-05\n",
      "  model = cd_fast.enet_coordinate_descent(\n",
      "/Users/charleston/.pyenv/versions/3.11.0/lib/python3.11/site-packages/sklearn/linear_model/_coordinate_descent.py:697: ConvergenceWarning: Objective did not converge. You might want to increase the number of iterations, check the scale of the features or consider increasing regularisation. Duality gap: 4.740e-05, tolerance: 1.299e-05\n",
      "  model = cd_fast.enet_coordinate_descent(\n",
      "/Users/charleston/.pyenv/versions/3.11.0/lib/python3.11/site-packages/sklearn/linear_model/_coordinate_descent.py:697: ConvergenceWarning: Objective did not converge. You might want to increase the number of iterations, check the scale of the features or consider increasing regularisation. Duality gap: 9.202e-05, tolerance: 1.299e-05\n",
      "  model = cd_fast.enet_coordinate_descent(\n",
      "/Users/charleston/.pyenv/versions/3.11.0/lib/python3.11/site-packages/sklearn/linear_model/_coordinate_descent.py:697: ConvergenceWarning: Objective did not converge. You might want to increase the number of iterations, check the scale of the features or consider increasing regularisation. Duality gap: 1.064e-04, tolerance: 1.299e-05\n",
      "  model = cd_fast.enet_coordinate_descent(\n",
      "/Users/charleston/.pyenv/versions/3.11.0/lib/python3.11/site-packages/sklearn/linear_model/_coordinate_descent.py:697: ConvergenceWarning: Objective did not converge. You might want to increase the number of iterations, check the scale of the features or consider increasing regularisation. Duality gap: 7.298e-05, tolerance: 1.299e-05\n",
      "  model = cd_fast.enet_coordinate_descent(\n",
      "/Users/charleston/.pyenv/versions/3.11.0/lib/python3.11/site-packages/sklearn/linear_model/_coordinate_descent.py:697: ConvergenceWarning: Objective did not converge. You might want to increase the number of iterations, check the scale of the features or consider increasing regularisation. Duality gap: 4.093e-05, tolerance: 1.299e-05\n",
      "  model = cd_fast.enet_coordinate_descent(\n",
      "/Users/charleston/.pyenv/versions/3.11.0/lib/python3.11/site-packages/sklearn/linear_model/_coordinate_descent.py:697: ConvergenceWarning: Objective did not converge. You might want to increase the number of iterations, check the scale of the features or consider increasing regularisation. Duality gap: 2.555e-05, tolerance: 1.299e-05\n",
      "  model = cd_fast.enet_coordinate_descent(\n",
      "/Users/charleston/.pyenv/versions/3.11.0/lib/python3.11/site-packages/sklearn/linear_model/_coordinate_descent.py:697: ConvergenceWarning: Objective did not converge. You might want to increase the number of iterations, check the scale of the features or consider increasing regularisation. Duality gap: 6.603e-05, tolerance: 1.299e-05\n",
      "  model = cd_fast.enet_coordinate_descent(\n",
      "/Users/charleston/.pyenv/versions/3.11.0/lib/python3.11/site-packages/sklearn/linear_model/_coordinate_descent.py:697: ConvergenceWarning: Objective did not converge. You might want to increase the number of iterations, check the scale of the features or consider increasing regularisation. Duality gap: 7.512e-05, tolerance: 1.299e-05\n",
      "  model = cd_fast.enet_coordinate_descent(\n",
      "/Users/charleston/.pyenv/versions/3.11.0/lib/python3.11/site-packages/sklearn/linear_model/_coordinate_descent.py:697: ConvergenceWarning: Objective did not converge. You might want to increase the number of iterations, check the scale of the features or consider increasing regularisation. Duality gap: 9.240e-05, tolerance: 1.299e-05\n",
      "  model = cd_fast.enet_coordinate_descent(\n",
      "/Users/charleston/.pyenv/versions/3.11.0/lib/python3.11/site-packages/sklearn/linear_model/_coordinate_descent.py:697: ConvergenceWarning: Objective did not converge. You might want to increase the number of iterations, check the scale of the features or consider increasing regularisation. Duality gap: 8.818e-05, tolerance: 1.299e-05\n",
      "  model = cd_fast.enet_coordinate_descent(\n",
      "/Users/charleston/.pyenv/versions/3.11.0/lib/python3.11/site-packages/sklearn/linear_model/_coordinate_descent.py:697: ConvergenceWarning: Objective did not converge. You might want to increase the number of iterations, check the scale of the features or consider increasing regularisation. Duality gap: 1.504e-04, tolerance: 1.299e-05\n",
      "  model = cd_fast.enet_coordinate_descent(\n",
      "/Users/charleston/.pyenv/versions/3.11.0/lib/python3.11/site-packages/sklearn/linear_model/_coordinate_descent.py:697: ConvergenceWarning: Objective did not converge. You might want to increase the number of iterations, check the scale of the features or consider increasing regularisation. Duality gap: 1.866e-04, tolerance: 1.299e-05\n",
      "  model = cd_fast.enet_coordinate_descent(\n",
      "/Users/charleston/.pyenv/versions/3.11.0/lib/python3.11/site-packages/sklearn/linear_model/_coordinate_descent.py:697: ConvergenceWarning: Objective did not converge. You might want to increase the number of iterations, check the scale of the features or consider increasing regularisation. Duality gap: 1.799e-04, tolerance: 1.299e-05\n",
      "  model = cd_fast.enet_coordinate_descent(\n",
      "/Users/charleston/.pyenv/versions/3.11.0/lib/python3.11/site-packages/sklearn/linear_model/_coordinate_descent.py:697: ConvergenceWarning: Objective did not converge. You might want to increase the number of iterations, check the scale of the features or consider increasing regularisation. Duality gap: 7.079e-05, tolerance: 1.299e-05\n",
      "  model = cd_fast.enet_coordinate_descent(\n",
      "/Users/charleston/.pyenv/versions/3.11.0/lib/python3.11/site-packages/sklearn/linear_model/_coordinate_descent.py:697: ConvergenceWarning: Objective did not converge. You might want to increase the number of iterations, check the scale of the features or consider increasing regularisation. Duality gap: 9.022e-05, tolerance: 1.299e-05\n",
      "  model = cd_fast.enet_coordinate_descent(\n",
      "/Users/charleston/.pyenv/versions/3.11.0/lib/python3.11/site-packages/sklearn/linear_model/_coordinate_descent.py:697: ConvergenceWarning: Objective did not converge. You might want to increase the number of iterations, check the scale of the features or consider increasing regularisation. Duality gap: 4.233e-05, tolerance: 1.299e-05\n",
      "  model = cd_fast.enet_coordinate_descent(\n",
      "/Users/charleston/.pyenv/versions/3.11.0/lib/python3.11/site-packages/sklearn/linear_model/_coordinate_descent.py:697: ConvergenceWarning: Objective did not converge. You might want to increase the number of iterations, check the scale of the features or consider increasing regularisation. Duality gap: 4.658e-05, tolerance: 1.299e-05\n",
      "  model = cd_fast.enet_coordinate_descent(\n",
      "/Users/charleston/.pyenv/versions/3.11.0/lib/python3.11/site-packages/sklearn/linear_model/_coordinate_descent.py:697: ConvergenceWarning: Objective did not converge. You might want to increase the number of iterations, check the scale of the features or consider increasing regularisation. Duality gap: 5.249e-05, tolerance: 1.299e-05\n",
      "  model = cd_fast.enet_coordinate_descent(\n",
      "/Users/charleston/.pyenv/versions/3.11.0/lib/python3.11/site-packages/sklearn/linear_model/_coordinate_descent.py:697: ConvergenceWarning: Objective did not converge. You might want to increase the number of iterations, check the scale of the features or consider increasing regularisation. Duality gap: 9.319e-05, tolerance: 1.299e-05\n",
      "  model = cd_fast.enet_coordinate_descent(\n",
      "/Users/charleston/.pyenv/versions/3.11.0/lib/python3.11/site-packages/sklearn/linear_model/_coordinate_descent.py:697: ConvergenceWarning: Objective did not converge. You might want to increase the number of iterations, check the scale of the features or consider increasing regularisation. Duality gap: 5.250e-05, tolerance: 1.299e-05\n",
      "  model = cd_fast.enet_coordinate_descent(\n",
      "/Users/charleston/.pyenv/versions/3.11.0/lib/python3.11/site-packages/sklearn/linear_model/_coordinate_descent.py:697: ConvergenceWarning: Objective did not converge. You might want to increase the number of iterations, check the scale of the features or consider increasing regularisation. Duality gap: 4.505e-05, tolerance: 1.299e-05\n",
      "  model = cd_fast.enet_coordinate_descent(\n",
      "/Users/charleston/.pyenv/versions/3.11.0/lib/python3.11/site-packages/sklearn/linear_model/_coordinate_descent.py:697: ConvergenceWarning: Objective did not converge. You might want to increase the number of iterations, check the scale of the features or consider increasing regularisation. Duality gap: 5.122e-05, tolerance: 1.299e-05\n",
      "  model = cd_fast.enet_coordinate_descent(\n",
      "/Users/charleston/.pyenv/versions/3.11.0/lib/python3.11/site-packages/sklearn/linear_model/_coordinate_descent.py:697: ConvergenceWarning: Objective did not converge. You might want to increase the number of iterations, check the scale of the features or consider increasing regularisation. Duality gap: 5.242e-05, tolerance: 1.299e-05\n",
      "  model = cd_fast.enet_coordinate_descent(\n",
      "/Users/charleston/.pyenv/versions/3.11.0/lib/python3.11/site-packages/sklearn/linear_model/_coordinate_descent.py:697: ConvergenceWarning: Objective did not converge. You might want to increase the number of iterations, check the scale of the features or consider increasing regularisation. Duality gap: 2.636e-05, tolerance: 1.299e-05\n",
      "  model = cd_fast.enet_coordinate_descent(\n",
      "/Users/charleston/.pyenv/versions/3.11.0/lib/python3.11/site-packages/sklearn/linear_model/_coordinate_descent.py:697: ConvergenceWarning: Objective did not converge. You might want to increase the number of iterations, check the scale of the features or consider increasing regularisation. Duality gap: 5.166e-05, tolerance: 1.299e-05\n",
      "  model = cd_fast.enet_coordinate_descent(\n",
      "/Users/charleston/.pyenv/versions/3.11.0/lib/python3.11/site-packages/sklearn/linear_model/_coordinate_descent.py:697: ConvergenceWarning: Objective did not converge. You might want to increase the number of iterations, check the scale of the features or consider increasing regularisation. Duality gap: 8.587e-05, tolerance: 1.299e-05\n",
      "  model = cd_fast.enet_coordinate_descent(\n",
      "/Users/charleston/.pyenv/versions/3.11.0/lib/python3.11/site-packages/sklearn/linear_model/_coordinate_descent.py:697: ConvergenceWarning: Objective did not converge. You might want to increase the number of iterations, check the scale of the features or consider increasing regularisation. Duality gap: 7.315e-05, tolerance: 1.299e-05\n",
      "  model = cd_fast.enet_coordinate_descent(\n",
      "/Users/charleston/.pyenv/versions/3.11.0/lib/python3.11/site-packages/sklearn/linear_model/_coordinate_descent.py:697: ConvergenceWarning: Objective did not converge. You might want to increase the number of iterations, check the scale of the features or consider increasing regularisation. Duality gap: 3.653e-05, tolerance: 1.299e-05\n",
      "  model = cd_fast.enet_coordinate_descent(\n",
      "/Users/charleston/.pyenv/versions/3.11.0/lib/python3.11/site-packages/sklearn/linear_model/_coordinate_descent.py:697: ConvergenceWarning: Objective did not converge. You might want to increase the number of iterations, check the scale of the features or consider increasing regularisation. Duality gap: 6.949e-05, tolerance: 1.299e-05\n",
      "  model = cd_fast.enet_coordinate_descent(\n",
      "/Users/charleston/.pyenv/versions/3.11.0/lib/python3.11/site-packages/sklearn/linear_model/_coordinate_descent.py:697: ConvergenceWarning: Objective did not converge. You might want to increase the number of iterations, check the scale of the features or consider increasing regularisation. Duality gap: 2.296e-04, tolerance: 1.299e-05\n",
      "  model = cd_fast.enet_coordinate_descent(\n",
      "/Users/charleston/.pyenv/versions/3.11.0/lib/python3.11/site-packages/sklearn/linear_model/_coordinate_descent.py:697: ConvergenceWarning: Objective did not converge. You might want to increase the number of iterations, check the scale of the features or consider increasing regularisation. Duality gap: 2.146e-04, tolerance: 1.299e-05\n",
      "  model = cd_fast.enet_coordinate_descent(\n",
      "/Users/charleston/.pyenv/versions/3.11.0/lib/python3.11/site-packages/sklearn/linear_model/_coordinate_descent.py:697: ConvergenceWarning: Objective did not converge. You might want to increase the number of iterations, check the scale of the features or consider increasing regularisation. Duality gap: 1.867e-04, tolerance: 1.299e-05\n",
      "  model = cd_fast.enet_coordinate_descent(\n",
      "/Users/charleston/.pyenv/versions/3.11.0/lib/python3.11/site-packages/sklearn/linear_model/_coordinate_descent.py:697: ConvergenceWarning: Objective did not converge. You might want to increase the number of iterations, check the scale of the features or consider increasing regularisation. Duality gap: 1.173e-04, tolerance: 1.299e-05\n",
      "  model = cd_fast.enet_coordinate_descent(\n",
      "/Users/charleston/.pyenv/versions/3.11.0/lib/python3.11/site-packages/sklearn/linear_model/_coordinate_descent.py:697: ConvergenceWarning: Objective did not converge. You might want to increase the number of iterations, check the scale of the features or consider increasing regularisation. Duality gap: 1.144e-04, tolerance: 1.299e-05\n",
      "  model = cd_fast.enet_coordinate_descent(\n",
      "/Users/charleston/.pyenv/versions/3.11.0/lib/python3.11/site-packages/sklearn/linear_model/_coordinate_descent.py:697: ConvergenceWarning: Objective did not converge. You might want to increase the number of iterations, check the scale of the features or consider increasing regularisation. Duality gap: 1.112e-04, tolerance: 1.299e-05\n",
      "  model = cd_fast.enet_coordinate_descent(\n",
      "/Users/charleston/.pyenv/versions/3.11.0/lib/python3.11/site-packages/sklearn/linear_model/_coordinate_descent.py:697: ConvergenceWarning: Objective did not converge. You might want to increase the number of iterations, check the scale of the features or consider increasing regularisation. Duality gap: 1.635e-04, tolerance: 1.299e-05\n",
      "  model = cd_fast.enet_coordinate_descent(\n",
      "/Users/charleston/.pyenv/versions/3.11.0/lib/python3.11/site-packages/sklearn/linear_model/_coordinate_descent.py:697: ConvergenceWarning: Objective did not converge. You might want to increase the number of iterations, check the scale of the features or consider increasing regularisation. Duality gap: 1.353e-04, tolerance: 1.299e-05\n",
      "  model = cd_fast.enet_coordinate_descent(\n",
      "/Users/charleston/.pyenv/versions/3.11.0/lib/python3.11/site-packages/sklearn/linear_model/_coordinate_descent.py:697: ConvergenceWarning: Objective did not converge. You might want to increase the number of iterations, check the scale of the features or consider increasing regularisation. Duality gap: 1.132e-04, tolerance: 1.299e-05\n",
      "  model = cd_fast.enet_coordinate_descent(\n",
      "/Users/charleston/.pyenv/versions/3.11.0/lib/python3.11/site-packages/sklearn/linear_model/_coordinate_descent.py:697: ConvergenceWarning: Objective did not converge. You might want to increase the number of iterations, check the scale of the features or consider increasing regularisation. Duality gap: 9.869e-05, tolerance: 1.299e-05\n",
      "  model = cd_fast.enet_coordinate_descent(\n",
      "/Users/charleston/.pyenv/versions/3.11.0/lib/python3.11/site-packages/sklearn/linear_model/_coordinate_descent.py:697: ConvergenceWarning: Objective did not converge. You might want to increase the number of iterations, check the scale of the features or consider increasing regularisation. Duality gap: 2.144e-05, tolerance: 1.520e-05\n",
      "  model = cd_fast.enet_coordinate_descent(\n",
      "/Users/charleston/.pyenv/versions/3.11.0/lib/python3.11/site-packages/sklearn/linear_model/_coordinate_descent.py:697: ConvergenceWarning: Objective did not converge. You might want to increase the number of iterations, check the scale of the features or consider increasing regularisation. Duality gap: 3.861e-05, tolerance: 1.520e-05\n",
      "  model = cd_fast.enet_coordinate_descent(\n",
      "/Users/charleston/.pyenv/versions/3.11.0/lib/python3.11/site-packages/sklearn/linear_model/_coordinate_descent.py:697: ConvergenceWarning: Objective did not converge. You might want to increase the number of iterations, check the scale of the features or consider increasing regularisation. Duality gap: 5.329e-05, tolerance: 1.520e-05\n",
      "  model = cd_fast.enet_coordinate_descent(\n",
      "/Users/charleston/.pyenv/versions/3.11.0/lib/python3.11/site-packages/sklearn/linear_model/_coordinate_descent.py:697: ConvergenceWarning: Objective did not converge. You might want to increase the number of iterations, check the scale of the features or consider increasing regularisation. Duality gap: 1.005e-04, tolerance: 1.520e-05\n",
      "  model = cd_fast.enet_coordinate_descent(\n",
      "/Users/charleston/.pyenv/versions/3.11.0/lib/python3.11/site-packages/sklearn/linear_model/_coordinate_descent.py:697: ConvergenceWarning: Objective did not converge. You might want to increase the number of iterations, check the scale of the features or consider increasing regularisation. Duality gap: 5.133e-05, tolerance: 1.520e-05\n",
      "  model = cd_fast.enet_coordinate_descent(\n",
      "/Users/charleston/.pyenv/versions/3.11.0/lib/python3.11/site-packages/sklearn/linear_model/_coordinate_descent.py:697: ConvergenceWarning: Objective did not converge. You might want to increase the number of iterations, check the scale of the features or consider increasing regularisation. Duality gap: 8.684e-05, tolerance: 1.520e-05\n",
      "  model = cd_fast.enet_coordinate_descent(\n",
      "/Users/charleston/.pyenv/versions/3.11.0/lib/python3.11/site-packages/sklearn/linear_model/_coordinate_descent.py:697: ConvergenceWarning: Objective did not converge. You might want to increase the number of iterations, check the scale of the features or consider increasing regularisation. Duality gap: 1.182e-04, tolerance: 1.520e-05\n",
      "  model = cd_fast.enet_coordinate_descent(\n",
      "/Users/charleston/.pyenv/versions/3.11.0/lib/python3.11/site-packages/sklearn/linear_model/_coordinate_descent.py:697: ConvergenceWarning: Objective did not converge. You might want to increase the number of iterations, check the scale of the features or consider increasing regularisation. Duality gap: 1.066e-04, tolerance: 1.520e-05\n",
      "  model = cd_fast.enet_coordinate_descent(\n",
      "/Users/charleston/.pyenv/versions/3.11.0/lib/python3.11/site-packages/sklearn/linear_model/_coordinate_descent.py:697: ConvergenceWarning: Objective did not converge. You might want to increase the number of iterations, check the scale of the features or consider increasing regularisation. Duality gap: 1.504e-04, tolerance: 1.520e-05\n",
      "  model = cd_fast.enet_coordinate_descent(\n",
      "/Users/charleston/.pyenv/versions/3.11.0/lib/python3.11/site-packages/sklearn/linear_model/_coordinate_descent.py:697: ConvergenceWarning: Objective did not converge. You might want to increase the number of iterations, check the scale of the features or consider increasing regularisation. Duality gap: 1.570e-04, tolerance: 1.520e-05\n",
      "  model = cd_fast.enet_coordinate_descent(\n",
      "/Users/charleston/.pyenv/versions/3.11.0/lib/python3.11/site-packages/sklearn/linear_model/_coordinate_descent.py:697: ConvergenceWarning: Objective did not converge. You might want to increase the number of iterations, check the scale of the features or consider increasing regularisation. Duality gap: 1.279e-04, tolerance: 1.520e-05\n",
      "  model = cd_fast.enet_coordinate_descent(\n",
      "/Users/charleston/.pyenv/versions/3.11.0/lib/python3.11/site-packages/sklearn/linear_model/_coordinate_descent.py:697: ConvergenceWarning: Objective did not converge. You might want to increase the number of iterations, check the scale of the features or consider increasing regularisation. Duality gap: 1.992e-04, tolerance: 1.520e-05\n",
      "  model = cd_fast.enet_coordinate_descent(\n",
      "/Users/charleston/.pyenv/versions/3.11.0/lib/python3.11/site-packages/sklearn/linear_model/_coordinate_descent.py:697: ConvergenceWarning: Objective did not converge. You might want to increase the number of iterations, check the scale of the features or consider increasing regularisation. Duality gap: 3.236e-04, tolerance: 1.520e-05\n",
      "  model = cd_fast.enet_coordinate_descent(\n",
      "/Users/charleston/.pyenv/versions/3.11.0/lib/python3.11/site-packages/sklearn/linear_model/_coordinate_descent.py:697: ConvergenceWarning: Objective did not converge. You might want to increase the number of iterations, check the scale of the features or consider increasing regularisation. Duality gap: 2.422e-04, tolerance: 1.520e-05\n",
      "  model = cd_fast.enet_coordinate_descent(\n",
      "/Users/charleston/.pyenv/versions/3.11.0/lib/python3.11/site-packages/sklearn/linear_model/_coordinate_descent.py:697: ConvergenceWarning: Objective did not converge. You might want to increase the number of iterations, check the scale of the features or consider increasing regularisation. Duality gap: 9.783e-05, tolerance: 1.520e-05\n",
      "  model = cd_fast.enet_coordinate_descent(\n",
      "/Users/charleston/.pyenv/versions/3.11.0/lib/python3.11/site-packages/sklearn/linear_model/_coordinate_descent.py:697: ConvergenceWarning: Objective did not converge. You might want to increase the number of iterations, check the scale of the features or consider increasing regularisation. Duality gap: 2.441e-05, tolerance: 1.520e-05\n",
      "  model = cd_fast.enet_coordinate_descent(\n",
      "/Users/charleston/.pyenv/versions/3.11.0/lib/python3.11/site-packages/sklearn/linear_model/_coordinate_descent.py:697: ConvergenceWarning: Objective did not converge. You might want to increase the number of iterations, check the scale of the features or consider increasing regularisation. Duality gap: 5.346e-05, tolerance: 1.520e-05\n",
      "  model = cd_fast.enet_coordinate_descent(\n",
      "/Users/charleston/.pyenv/versions/3.11.0/lib/python3.11/site-packages/sklearn/linear_model/_coordinate_descent.py:697: ConvergenceWarning: Objective did not converge. You might want to increase the number of iterations, check the scale of the features or consider increasing regularisation. Duality gap: 2.136e-05, tolerance: 1.520e-05\n",
      "  model = cd_fast.enet_coordinate_descent(\n",
      "/Users/charleston/.pyenv/versions/3.11.0/lib/python3.11/site-packages/sklearn/linear_model/_coordinate_descent.py:697: ConvergenceWarning: Objective did not converge. You might want to increase the number of iterations, check the scale of the features or consider increasing regularisation. Duality gap: 4.892e-05, tolerance: 1.520e-05\n",
      "  model = cd_fast.enet_coordinate_descent(\n",
      "/Users/charleston/.pyenv/versions/3.11.0/lib/python3.11/site-packages/sklearn/linear_model/_coordinate_descent.py:697: ConvergenceWarning: Objective did not converge. You might want to increase the number of iterations, check the scale of the features or consider increasing regularisation. Duality gap: 9.393e-05, tolerance: 1.520e-05\n",
      "  model = cd_fast.enet_coordinate_descent(\n",
      "/Users/charleston/.pyenv/versions/3.11.0/lib/python3.11/site-packages/sklearn/linear_model/_coordinate_descent.py:697: ConvergenceWarning: Objective did not converge. You might want to increase the number of iterations, check the scale of the features or consider increasing regularisation. Duality gap: 7.958e-05, tolerance: 1.520e-05\n",
      "  model = cd_fast.enet_coordinate_descent(\n",
      "/Users/charleston/.pyenv/versions/3.11.0/lib/python3.11/site-packages/sklearn/linear_model/_coordinate_descent.py:697: ConvergenceWarning: Objective did not converge. You might want to increase the number of iterations, check the scale of the features or consider increasing regularisation. Duality gap: 9.321e-05, tolerance: 1.520e-05\n",
      "  model = cd_fast.enet_coordinate_descent(\n",
      "/Users/charleston/.pyenv/versions/3.11.0/lib/python3.11/site-packages/sklearn/linear_model/_coordinate_descent.py:697: ConvergenceWarning: Objective did not converge. You might want to increase the number of iterations, check the scale of the features or consider increasing regularisation. Duality gap: 7.495e-05, tolerance: 1.520e-05\n",
      "  model = cd_fast.enet_coordinate_descent(\n",
      "/Users/charleston/.pyenv/versions/3.11.0/lib/python3.11/site-packages/sklearn/linear_model/_coordinate_descent.py:697: ConvergenceWarning: Objective did not converge. You might want to increase the number of iterations, check the scale of the features or consider increasing regularisation. Duality gap: 1.649e-04, tolerance: 1.520e-05\n",
      "  model = cd_fast.enet_coordinate_descent(\n",
      "/Users/charleston/.pyenv/versions/3.11.0/lib/python3.11/site-packages/sklearn/linear_model/_coordinate_descent.py:697: ConvergenceWarning: Objective did not converge. You might want to increase the number of iterations, check the scale of the features or consider increasing regularisation. Duality gap: 8.293e-05, tolerance: 1.520e-05\n",
      "  model = cd_fast.enet_coordinate_descent(\n",
      "/Users/charleston/.pyenv/versions/3.11.0/lib/python3.11/site-packages/sklearn/linear_model/_coordinate_descent.py:697: ConvergenceWarning: Objective did not converge. You might want to increase the number of iterations, check the scale of the features or consider increasing regularisation. Duality gap: 8.118e-05, tolerance: 1.520e-05\n",
      "  model = cd_fast.enet_coordinate_descent(\n",
      "/Users/charleston/.pyenv/versions/3.11.0/lib/python3.11/site-packages/sklearn/linear_model/_coordinate_descent.py:697: ConvergenceWarning: Objective did not converge. You might want to increase the number of iterations, check the scale of the features or consider increasing regularisation. Duality gap: 3.706e-05, tolerance: 1.520e-05\n",
      "  model = cd_fast.enet_coordinate_descent(\n",
      "/Users/charleston/.pyenv/versions/3.11.0/lib/python3.11/site-packages/sklearn/linear_model/_coordinate_descent.py:697: ConvergenceWarning: Objective did not converge. You might want to increase the number of iterations, check the scale of the features or consider increasing regularisation. Duality gap: 9.207e-05, tolerance: 1.520e-05\n",
      "  model = cd_fast.enet_coordinate_descent(\n",
      "/Users/charleston/.pyenv/versions/3.11.0/lib/python3.11/site-packages/sklearn/linear_model/_coordinate_descent.py:697: ConvergenceWarning: Objective did not converge. You might want to increase the number of iterations, check the scale of the features or consider increasing regularisation. Duality gap: 1.767e-04, tolerance: 1.520e-05\n",
      "  model = cd_fast.enet_coordinate_descent(\n",
      "/Users/charleston/.pyenv/versions/3.11.0/lib/python3.11/site-packages/sklearn/linear_model/_coordinate_descent.py:697: ConvergenceWarning: Objective did not converge. You might want to increase the number of iterations, check the scale of the features or consider increasing regularisation. Duality gap: 7.836e-05, tolerance: 1.520e-05\n",
      "  model = cd_fast.enet_coordinate_descent(\n",
      "/Users/charleston/.pyenv/versions/3.11.0/lib/python3.11/site-packages/sklearn/linear_model/_coordinate_descent.py:697: ConvergenceWarning: Objective did not converge. You might want to increase the number of iterations, check the scale of the features or consider increasing regularisation. Duality gap: 8.448e-05, tolerance: 1.520e-05\n",
      "  model = cd_fast.enet_coordinate_descent(\n",
      "/Users/charleston/.pyenv/versions/3.11.0/lib/python3.11/site-packages/sklearn/linear_model/_coordinate_descent.py:697: ConvergenceWarning: Objective did not converge. You might want to increase the number of iterations, check the scale of the features or consider increasing regularisation. Duality gap: 1.588e-04, tolerance: 1.520e-05\n",
      "  model = cd_fast.enet_coordinate_descent(\n",
      "/Users/charleston/.pyenv/versions/3.11.0/lib/python3.11/site-packages/sklearn/linear_model/_coordinate_descent.py:697: ConvergenceWarning: Objective did not converge. You might want to increase the number of iterations, check the scale of the features or consider increasing regularisation. Duality gap: 1.921e-04, tolerance: 1.520e-05\n",
      "  model = cd_fast.enet_coordinate_descent(\n",
      "/Users/charleston/.pyenv/versions/3.11.0/lib/python3.11/site-packages/sklearn/linear_model/_coordinate_descent.py:697: ConvergenceWarning: Objective did not converge. You might want to increase the number of iterations, check the scale of the features or consider increasing regularisation. Duality gap: 1.852e-04, tolerance: 1.520e-05\n",
      "  model = cd_fast.enet_coordinate_descent(\n",
      "/Users/charleston/.pyenv/versions/3.11.0/lib/python3.11/site-packages/sklearn/linear_model/_coordinate_descent.py:697: ConvergenceWarning: Objective did not converge. You might want to increase the number of iterations, check the scale of the features or consider increasing regularisation. Duality gap: 7.569e-05, tolerance: 1.520e-05\n",
      "  model = cd_fast.enet_coordinate_descent(\n",
      "/Users/charleston/.pyenv/versions/3.11.0/lib/python3.11/site-packages/sklearn/linear_model/_coordinate_descent.py:697: ConvergenceWarning: Objective did not converge. You might want to increase the number of iterations, check the scale of the features or consider increasing regularisation. Duality gap: 1.080e-04, tolerance: 1.520e-05\n",
      "  model = cd_fast.enet_coordinate_descent(\n",
      "/Users/charleston/.pyenv/versions/3.11.0/lib/python3.11/site-packages/sklearn/linear_model/_coordinate_descent.py:697: ConvergenceWarning: Objective did not converge. You might want to increase the number of iterations, check the scale of the features or consider increasing regularisation. Duality gap: 1.190e-04, tolerance: 1.520e-05\n",
      "  model = cd_fast.enet_coordinate_descent(\n",
      "/Users/charleston/.pyenv/versions/3.11.0/lib/python3.11/site-packages/sklearn/linear_model/_coordinate_descent.py:697: ConvergenceWarning: Objective did not converge. You might want to increase the number of iterations, check the scale of the features or consider increasing regularisation. Duality gap: 6.330e-05, tolerance: 1.520e-05\n",
      "  model = cd_fast.enet_coordinate_descent(\n",
      "/Users/charleston/.pyenv/versions/3.11.0/lib/python3.11/site-packages/sklearn/linear_model/_coordinate_descent.py:697: ConvergenceWarning: Objective did not converge. You might want to increase the number of iterations, check the scale of the features or consider increasing regularisation. Duality gap: 6.713e-05, tolerance: 1.520e-05\n",
      "  model = cd_fast.enet_coordinate_descent(\n",
      "/Users/charleston/.pyenv/versions/3.11.0/lib/python3.11/site-packages/sklearn/linear_model/_coordinate_descent.py:697: ConvergenceWarning: Objective did not converge. You might want to increase the number of iterations, check the scale of the features or consider increasing regularisation. Duality gap: 1.138e-04, tolerance: 1.520e-05\n",
      "  model = cd_fast.enet_coordinate_descent(\n",
      "/Users/charleston/.pyenv/versions/3.11.0/lib/python3.11/site-packages/sklearn/linear_model/_coordinate_descent.py:697: ConvergenceWarning: Objective did not converge. You might want to increase the number of iterations, check the scale of the features or consider increasing regularisation. Duality gap: 1.686e-05, tolerance: 1.102e-05\n",
      "  model = cd_fast.enet_coordinate_descent(\n",
      "/Users/charleston/.pyenv/versions/3.11.0/lib/python3.11/site-packages/sklearn/linear_model/_coordinate_descent.py:697: ConvergenceWarning: Objective did not converge. You might want to increase the number of iterations, check the scale of the features or consider increasing regularisation. Duality gap: 3.298e-05, tolerance: 1.102e-05\n",
      "  model = cd_fast.enet_coordinate_descent(\n",
      "/Users/charleston/.pyenv/versions/3.11.0/lib/python3.11/site-packages/sklearn/linear_model/_coordinate_descent.py:697: ConvergenceWarning: Objective did not converge. You might want to increase the number of iterations, check the scale of the features or consider increasing regularisation. Duality gap: 4.145e-05, tolerance: 1.102e-05\n",
      "  model = cd_fast.enet_coordinate_descent(\n",
      "/Users/charleston/.pyenv/versions/3.11.0/lib/python3.11/site-packages/sklearn/linear_model/_coordinate_descent.py:697: ConvergenceWarning: Objective did not converge. You might want to increase the number of iterations, check the scale of the features or consider increasing regularisation. Duality gap: 7.863e-05, tolerance: 1.102e-05\n",
      "  model = cd_fast.enet_coordinate_descent(\n",
      "/Users/charleston/.pyenv/versions/3.11.0/lib/python3.11/site-packages/sklearn/linear_model/_coordinate_descent.py:697: ConvergenceWarning: Objective did not converge. You might want to increase the number of iterations, check the scale of the features or consider increasing regularisation. Duality gap: 1.118e-04, tolerance: 1.102e-05\n",
      "  model = cd_fast.enet_coordinate_descent(\n",
      "/Users/charleston/.pyenv/versions/3.11.0/lib/python3.11/site-packages/sklearn/linear_model/_coordinate_descent.py:697: ConvergenceWarning: Objective did not converge. You might want to increase the number of iterations, check the scale of the features or consider increasing regularisation. Duality gap: 9.782e-05, tolerance: 1.102e-05\n",
      "  model = cd_fast.enet_coordinate_descent(\n",
      "/Users/charleston/.pyenv/versions/3.11.0/lib/python3.11/site-packages/sklearn/linear_model/_coordinate_descent.py:697: ConvergenceWarning: Objective did not converge. You might want to increase the number of iterations, check the scale of the features or consider increasing regularisation. Duality gap: 3.902e-05, tolerance: 1.102e-05\n",
      "  model = cd_fast.enet_coordinate_descent(\n",
      "/Users/charleston/.pyenv/versions/3.11.0/lib/python3.11/site-packages/sklearn/linear_model/_coordinate_descent.py:697: ConvergenceWarning: Objective did not converge. You might want to increase the number of iterations, check the scale of the features or consider increasing regularisation. Duality gap: 5.383e-05, tolerance: 1.102e-05\n",
      "  model = cd_fast.enet_coordinate_descent(\n",
      "/Users/charleston/.pyenv/versions/3.11.0/lib/python3.11/site-packages/sklearn/linear_model/_coordinate_descent.py:697: ConvergenceWarning: Objective did not converge. You might want to increase the number of iterations, check the scale of the features or consider increasing regularisation. Duality gap: 4.119e-05, tolerance: 1.102e-05\n",
      "  model = cd_fast.enet_coordinate_descent(\n",
      "/Users/charleston/.pyenv/versions/3.11.0/lib/python3.11/site-packages/sklearn/linear_model/_coordinate_descent.py:697: ConvergenceWarning: Objective did not converge. You might want to increase the number of iterations, check the scale of the features or consider increasing regularisation. Duality gap: 4.869e-05, tolerance: 1.102e-05\n",
      "  model = cd_fast.enet_coordinate_descent(\n",
      "/Users/charleston/.pyenv/versions/3.11.0/lib/python3.11/site-packages/sklearn/linear_model/_coordinate_descent.py:697: ConvergenceWarning: Objective did not converge. You might want to increase the number of iterations, check the scale of the features or consider increasing regularisation. Duality gap: 1.625e-05, tolerance: 1.102e-05\n",
      "  model = cd_fast.enet_coordinate_descent(\n",
      "/Users/charleston/.pyenv/versions/3.11.0/lib/python3.11/site-packages/sklearn/linear_model/_coordinate_descent.py:697: ConvergenceWarning: Objective did not converge. You might want to increase the number of iterations, check the scale of the features or consider increasing regularisation. Duality gap: 1.713e-05, tolerance: 1.102e-05\n",
      "  model = cd_fast.enet_coordinate_descent(\n",
      "/Users/charleston/.pyenv/versions/3.11.0/lib/python3.11/site-packages/sklearn/linear_model/_coordinate_descent.py:697: ConvergenceWarning: Objective did not converge. You might want to increase the number of iterations, check the scale of the features or consider increasing regularisation. Duality gap: 2.449e-05, tolerance: 1.102e-05\n",
      "  model = cd_fast.enet_coordinate_descent(\n",
      "/Users/charleston/.pyenv/versions/3.11.0/lib/python3.11/site-packages/sklearn/linear_model/_coordinate_descent.py:697: ConvergenceWarning: Objective did not converge. You might want to increase the number of iterations, check the scale of the features or consider increasing regularisation. Duality gap: 3.265e-05, tolerance: 1.102e-05\n",
      "  model = cd_fast.enet_coordinate_descent(\n",
      "/Users/charleston/.pyenv/versions/3.11.0/lib/python3.11/site-packages/sklearn/linear_model/_coordinate_descent.py:697: ConvergenceWarning: Objective did not converge. You might want to increase the number of iterations, check the scale of the features or consider increasing regularisation. Duality gap: 5.513e-05, tolerance: 1.102e-05\n",
      "  model = cd_fast.enet_coordinate_descent(\n",
      "/Users/charleston/.pyenv/versions/3.11.0/lib/python3.11/site-packages/sklearn/linear_model/_coordinate_descent.py:697: ConvergenceWarning: Objective did not converge. You might want to increase the number of iterations, check the scale of the features or consider increasing regularisation. Duality gap: 5.119e-05, tolerance: 1.102e-05\n",
      "  model = cd_fast.enet_coordinate_descent(\n",
      "/Users/charleston/.pyenv/versions/3.11.0/lib/python3.11/site-packages/sklearn/linear_model/_coordinate_descent.py:697: ConvergenceWarning: Objective did not converge. You might want to increase the number of iterations, check the scale of the features or consider increasing regularisation. Duality gap: 4.792e-05, tolerance: 1.102e-05\n",
      "  model = cd_fast.enet_coordinate_descent(\n",
      "/Users/charleston/.pyenv/versions/3.11.0/lib/python3.11/site-packages/sklearn/linear_model/_coordinate_descent.py:697: ConvergenceWarning: Objective did not converge. You might want to increase the number of iterations, check the scale of the features or consider increasing regularisation. Duality gap: 6.551e-05, tolerance: 1.102e-05\n",
      "  model = cd_fast.enet_coordinate_descent(\n",
      "/Users/charleston/.pyenv/versions/3.11.0/lib/python3.11/site-packages/sklearn/linear_model/_coordinate_descent.py:697: ConvergenceWarning: Objective did not converge. You might want to increase the number of iterations, check the scale of the features or consider increasing regularisation. Duality gap: 4.435e-05, tolerance: 1.102e-05\n",
      "  model = cd_fast.enet_coordinate_descent(\n",
      "/Users/charleston/.pyenv/versions/3.11.0/lib/python3.11/site-packages/sklearn/linear_model/_coordinate_descent.py:697: ConvergenceWarning: Objective did not converge. You might want to increase the number of iterations, check the scale of the features or consider increasing regularisation. Duality gap: 6.630e-05, tolerance: 1.102e-05\n",
      "  model = cd_fast.enet_coordinate_descent(\n",
      "/Users/charleston/.pyenv/versions/3.11.0/lib/python3.11/site-packages/sklearn/linear_model/_coordinate_descent.py:697: ConvergenceWarning: Objective did not converge. You might want to increase the number of iterations, check the scale of the features or consider increasing regularisation. Duality gap: 4.223e-05, tolerance: 1.102e-05\n",
      "  model = cd_fast.enet_coordinate_descent(\n",
      "/Users/charleston/.pyenv/versions/3.11.0/lib/python3.11/site-packages/sklearn/linear_model/_coordinate_descent.py:697: ConvergenceWarning: Objective did not converge. You might want to increase the number of iterations, check the scale of the features or consider increasing regularisation. Duality gap: 4.429e-05, tolerance: 1.102e-05\n",
      "  model = cd_fast.enet_coordinate_descent(\n",
      "/Users/charleston/.pyenv/versions/3.11.0/lib/python3.11/site-packages/sklearn/linear_model/_coordinate_descent.py:697: ConvergenceWarning: Objective did not converge. You might want to increase the number of iterations, check the scale of the features or consider increasing regularisation. Duality gap: 5.047e-05, tolerance: 1.102e-05\n",
      "  model = cd_fast.enet_coordinate_descent(\n",
      "/Users/charleston/.pyenv/versions/3.11.0/lib/python3.11/site-packages/sklearn/linear_model/_coordinate_descent.py:697: ConvergenceWarning: Objective did not converge. You might want to increase the number of iterations, check the scale of the features or consider increasing regularisation. Duality gap: 3.545e-05, tolerance: 1.102e-05\n",
      "  model = cd_fast.enet_coordinate_descent(\n",
      "/Users/charleston/.pyenv/versions/3.11.0/lib/python3.11/site-packages/sklearn/linear_model/_coordinate_descent.py:697: ConvergenceWarning: Objective did not converge. You might want to increase the number of iterations, check the scale of the features or consider increasing regularisation. Duality gap: 4.016e-05, tolerance: 1.102e-05\n",
      "  model = cd_fast.enet_coordinate_descent(\n",
      "/Users/charleston/.pyenv/versions/3.11.0/lib/python3.11/site-packages/sklearn/linear_model/_coordinate_descent.py:697: ConvergenceWarning: Objective did not converge. You might want to increase the number of iterations, check the scale of the features or consider increasing regularisation. Duality gap: 2.874e-05, tolerance: 1.102e-05\n",
      "  model = cd_fast.enet_coordinate_descent(\n",
      "/Users/charleston/.pyenv/versions/3.11.0/lib/python3.11/site-packages/sklearn/linear_model/_coordinate_descent.py:697: ConvergenceWarning: Objective did not converge. You might want to increase the number of iterations, check the scale of the features or consider increasing regularisation. Duality gap: 2.466e-05, tolerance: 1.102e-05\n",
      "  model = cd_fast.enet_coordinate_descent(\n",
      "/Users/charleston/.pyenv/versions/3.11.0/lib/python3.11/site-packages/sklearn/linear_model/_coordinate_descent.py:697: ConvergenceWarning: Objective did not converge. You might want to increase the number of iterations, check the scale of the features or consider increasing regularisation. Duality gap: 2.185e-05, tolerance: 1.352e-05\n",
      "  model = cd_fast.enet_coordinate_descent(\n",
      "/Users/charleston/.pyenv/versions/3.11.0/lib/python3.11/site-packages/sklearn/linear_model/_coordinate_descent.py:697: ConvergenceWarning: Objective did not converge. You might want to increase the number of iterations, check the scale of the features or consider increasing regularisation. Duality gap: 3.465e-05, tolerance: 1.352e-05\n",
      "  model = cd_fast.enet_coordinate_descent(\n",
      "/Users/charleston/.pyenv/versions/3.11.0/lib/python3.11/site-packages/sklearn/linear_model/_coordinate_descent.py:697: ConvergenceWarning: Objective did not converge. You might want to increase the number of iterations, check the scale of the features or consider increasing regularisation. Duality gap: 2.107e-05, tolerance: 1.352e-05\n",
      "  model = cd_fast.enet_coordinate_descent(\n",
      "/Users/charleston/.pyenv/versions/3.11.0/lib/python3.11/site-packages/sklearn/linear_model/_coordinate_descent.py:697: ConvergenceWarning: Objective did not converge. You might want to increase the number of iterations, check the scale of the features or consider increasing regularisation. Duality gap: 3.287e-05, tolerance: 1.352e-05\n",
      "  model = cd_fast.enet_coordinate_descent(\n",
      "/Users/charleston/.pyenv/versions/3.11.0/lib/python3.11/site-packages/sklearn/linear_model/_coordinate_descent.py:697: ConvergenceWarning: Objective did not converge. You might want to increase the number of iterations, check the scale of the features or consider increasing regularisation. Duality gap: 5.372e-05, tolerance: 1.352e-05\n",
      "  model = cd_fast.enet_coordinate_descent(\n",
      "/Users/charleston/.pyenv/versions/3.11.0/lib/python3.11/site-packages/sklearn/linear_model/_coordinate_descent.py:697: ConvergenceWarning: Objective did not converge. You might want to increase the number of iterations, check the scale of the features or consider increasing regularisation. Duality gap: 3.740e-05, tolerance: 1.352e-05\n",
      "  model = cd_fast.enet_coordinate_descent(\n",
      "/Users/charleston/.pyenv/versions/3.11.0/lib/python3.11/site-packages/sklearn/linear_model/_coordinate_descent.py:697: ConvergenceWarning: Objective did not converge. You might want to increase the number of iterations, check the scale of the features or consider increasing regularisation. Duality gap: 4.608e-05, tolerance: 1.352e-05\n",
      "  model = cd_fast.enet_coordinate_descent(\n",
      "/Users/charleston/.pyenv/versions/3.11.0/lib/python3.11/site-packages/sklearn/linear_model/_coordinate_descent.py:697: ConvergenceWarning: Objective did not converge. You might want to increase the number of iterations, check the scale of the features or consider increasing regularisation. Duality gap: 7.977e-05, tolerance: 1.352e-05\n",
      "  model = cd_fast.enet_coordinate_descent(\n",
      "/Users/charleston/.pyenv/versions/3.11.0/lib/python3.11/site-packages/sklearn/linear_model/_coordinate_descent.py:697: ConvergenceWarning: Objective did not converge. You might want to increase the number of iterations, check the scale of the features or consider increasing regularisation. Duality gap: 8.978e-05, tolerance: 1.352e-05\n",
      "  model = cd_fast.enet_coordinate_descent(\n",
      "/Users/charleston/.pyenv/versions/3.11.0/lib/python3.11/site-packages/sklearn/linear_model/_coordinate_descent.py:697: ConvergenceWarning: Objective did not converge. You might want to increase the number of iterations, check the scale of the features or consider increasing regularisation. Duality gap: 5.894e-05, tolerance: 1.352e-05\n",
      "  model = cd_fast.enet_coordinate_descent(\n",
      "/Users/charleston/.pyenv/versions/3.11.0/lib/python3.11/site-packages/sklearn/linear_model/_coordinate_descent.py:697: ConvergenceWarning: Objective did not converge. You might want to increase the number of iterations, check the scale of the features or consider increasing regularisation. Duality gap: 6.680e-05, tolerance: 1.352e-05\n",
      "  model = cd_fast.enet_coordinate_descent(\n",
      "/Users/charleston/.pyenv/versions/3.11.0/lib/python3.11/site-packages/sklearn/linear_model/_coordinate_descent.py:697: ConvergenceWarning: Objective did not converge. You might want to increase the number of iterations, check the scale of the features or consider increasing regularisation. Duality gap: 4.399e-05, tolerance: 1.352e-05\n",
      "  model = cd_fast.enet_coordinate_descent(\n",
      "/Users/charleston/.pyenv/versions/3.11.0/lib/python3.11/site-packages/sklearn/linear_model/_coordinate_descent.py:697: ConvergenceWarning: Objective did not converge. You might want to increase the number of iterations, check the scale of the features or consider increasing regularisation. Duality gap: 8.421e-05, tolerance: 1.352e-05\n",
      "  model = cd_fast.enet_coordinate_descent(\n",
      "/Users/charleston/.pyenv/versions/3.11.0/lib/python3.11/site-packages/sklearn/linear_model/_coordinate_descent.py:697: ConvergenceWarning: Objective did not converge. You might want to increase the number of iterations, check the scale of the features or consider increasing regularisation. Duality gap: 9.662e-05, tolerance: 1.352e-05\n",
      "  model = cd_fast.enet_coordinate_descent(\n",
      "/Users/charleston/.pyenv/versions/3.11.0/lib/python3.11/site-packages/sklearn/linear_model/_coordinate_descent.py:697: ConvergenceWarning: Objective did not converge. You might want to increase the number of iterations, check the scale of the features or consider increasing regularisation. Duality gap: 9.136e-05, tolerance: 1.352e-05\n",
      "  model = cd_fast.enet_coordinate_descent(\n",
      "/Users/charleston/.pyenv/versions/3.11.0/lib/python3.11/site-packages/sklearn/linear_model/_coordinate_descent.py:697: ConvergenceWarning: Objective did not converge. You might want to increase the number of iterations, check the scale of the features or consider increasing regularisation. Duality gap: 9.117e-05, tolerance: 1.352e-05\n",
      "  model = cd_fast.enet_coordinate_descent(\n",
      "/Users/charleston/.pyenv/versions/3.11.0/lib/python3.11/site-packages/sklearn/linear_model/_coordinate_descent.py:697: ConvergenceWarning: Objective did not converge. You might want to increase the number of iterations, check the scale of the features or consider increasing regularisation. Duality gap: 9.377e-05, tolerance: 1.352e-05\n",
      "  model = cd_fast.enet_coordinate_descent(\n",
      "/Users/charleston/.pyenv/versions/3.11.0/lib/python3.11/site-packages/sklearn/linear_model/_coordinate_descent.py:697: ConvergenceWarning: Objective did not converge. You might want to increase the number of iterations, check the scale of the features or consider increasing regularisation. Duality gap: 1.823e-04, tolerance: 1.352e-05\n",
      "  model = cd_fast.enet_coordinate_descent(\n",
      "/Users/charleston/.pyenv/versions/3.11.0/lib/python3.11/site-packages/sklearn/linear_model/_coordinate_descent.py:697: ConvergenceWarning: Objective did not converge. You might want to increase the number of iterations, check the scale of the features or consider increasing regularisation. Duality gap: 1.710e-04, tolerance: 1.352e-05\n",
      "  model = cd_fast.enet_coordinate_descent(\n",
      "/Users/charleston/.pyenv/versions/3.11.0/lib/python3.11/site-packages/sklearn/linear_model/_coordinate_descent.py:697: ConvergenceWarning: Objective did not converge. You might want to increase the number of iterations, check the scale of the features or consider increasing regularisation. Duality gap: 8.597e-05, tolerance: 1.352e-05\n",
      "  model = cd_fast.enet_coordinate_descent(\n",
      "/Users/charleston/.pyenv/versions/3.11.0/lib/python3.11/site-packages/sklearn/linear_model/_coordinate_descent.py:697: ConvergenceWarning: Objective did not converge. You might want to increase the number of iterations, check the scale of the features or consider increasing regularisation. Duality gap: 9.230e-05, tolerance: 1.352e-05\n",
      "  model = cd_fast.enet_coordinate_descent(\n",
      "/Users/charleston/.pyenv/versions/3.11.0/lib/python3.11/site-packages/sklearn/linear_model/_coordinate_descent.py:697: ConvergenceWarning: Objective did not converge. You might want to increase the number of iterations, check the scale of the features or consider increasing regularisation. Duality gap: 4.597e-05, tolerance: 1.352e-05\n",
      "  model = cd_fast.enet_coordinate_descent(\n",
      "/Users/charleston/.pyenv/versions/3.11.0/lib/python3.11/site-packages/sklearn/linear_model/_coordinate_descent.py:697: ConvergenceWarning: Objective did not converge. You might want to increase the number of iterations, check the scale of the features or consider increasing regularisation. Duality gap: 9.363e-05, tolerance: 1.352e-05\n",
      "  model = cd_fast.enet_coordinate_descent(\n",
      "/Users/charleston/.pyenv/versions/3.11.0/lib/python3.11/site-packages/sklearn/linear_model/_coordinate_descent.py:697: ConvergenceWarning: Objective did not converge. You might want to increase the number of iterations, check the scale of the features or consider increasing regularisation. Duality gap: 7.357e-05, tolerance: 1.352e-05\n",
      "  model = cd_fast.enet_coordinate_descent(\n",
      "/Users/charleston/.pyenv/versions/3.11.0/lib/python3.11/site-packages/sklearn/linear_model/_coordinate_descent.py:697: ConvergenceWarning: Objective did not converge. You might want to increase the number of iterations, check the scale of the features or consider increasing regularisation. Duality gap: 1.220e-04, tolerance: 1.352e-05\n",
      "  model = cd_fast.enet_coordinate_descent(\n",
      "/Users/charleston/.pyenv/versions/3.11.0/lib/python3.11/site-packages/sklearn/linear_model/_coordinate_descent.py:697: ConvergenceWarning: Objective did not converge. You might want to increase the number of iterations, check the scale of the features or consider increasing regularisation. Duality gap: 1.699e-04, tolerance: 1.352e-05\n",
      "  model = cd_fast.enet_coordinate_descent(\n",
      "/Users/charleston/.pyenv/versions/3.11.0/lib/python3.11/site-packages/sklearn/linear_model/_coordinate_descent.py:697: ConvergenceWarning: Objective did not converge. You might want to increase the number of iterations, check the scale of the features or consider increasing regularisation. Duality gap: 2.140e-04, tolerance: 1.352e-05\n",
      "  model = cd_fast.enet_coordinate_descent(\n",
      "/Users/charleston/.pyenv/versions/3.11.0/lib/python3.11/site-packages/sklearn/linear_model/_coordinate_descent.py:697: ConvergenceWarning: Objective did not converge. You might want to increase the number of iterations, check the scale of the features or consider increasing regularisation. Duality gap: 2.085e-04, tolerance: 1.352e-05\n",
      "  model = cd_fast.enet_coordinate_descent(\n",
      "/Users/charleston/.pyenv/versions/3.11.0/lib/python3.11/site-packages/sklearn/linear_model/_coordinate_descent.py:697: ConvergenceWarning: Objective did not converge. You might want to increase the number of iterations, check the scale of the features or consider increasing regularisation. Duality gap: 1.104e-04, tolerance: 1.352e-05\n",
      "  model = cd_fast.enet_coordinate_descent(\n",
      "/Users/charleston/.pyenv/versions/3.11.0/lib/python3.11/site-packages/sklearn/linear_model/_coordinate_descent.py:697: ConvergenceWarning: Objective did not converge. You might want to increase the number of iterations, check the scale of the features or consider increasing regularisation. Duality gap: 8.669e-05, tolerance: 1.352e-05\n",
      "  model = cd_fast.enet_coordinate_descent(\n",
      "/Users/charleston/.pyenv/versions/3.11.0/lib/python3.11/site-packages/sklearn/linear_model/_coordinate_descent.py:697: ConvergenceWarning: Objective did not converge. You might want to increase the number of iterations, check the scale of the features or consider increasing regularisation. Duality gap: 1.681e-04, tolerance: 1.352e-05\n",
      "  model = cd_fast.enet_coordinate_descent(\n",
      "/Users/charleston/.pyenv/versions/3.11.0/lib/python3.11/site-packages/sklearn/linear_model/_coordinate_descent.py:697: ConvergenceWarning: Objective did not converge. You might want to increase the number of iterations, check the scale of the features or consider increasing regularisation. Duality gap: 1.154e-04, tolerance: 1.352e-05\n",
      "  model = cd_fast.enet_coordinate_descent(\n",
      "/Users/charleston/.pyenv/versions/3.11.0/lib/python3.11/site-packages/sklearn/linear_model/_coordinate_descent.py:697: ConvergenceWarning: Objective did not converge. You might want to increase the number of iterations, check the scale of the features or consider increasing regularisation. Duality gap: 7.820e-05, tolerance: 1.352e-05\n",
      "  model = cd_fast.enet_coordinate_descent(\n",
      "/Users/charleston/.pyenv/versions/3.11.0/lib/python3.11/site-packages/sklearn/linear_model/_coordinate_descent.py:697: ConvergenceWarning: Objective did not converge. You might want to increase the number of iterations, check the scale of the features or consider increasing regularisation. Duality gap: 2.765e-05, tolerance: 1.352e-05\n",
      "  model = cd_fast.enet_coordinate_descent(\n",
      "/Users/charleston/.pyenv/versions/3.11.0/lib/python3.11/site-packages/sklearn/linear_model/_coordinate_descent.py:697: ConvergenceWarning: Objective did not converge. You might want to increase the number of iterations, check the scale of the features or consider increasing regularisation. Duality gap: 4.813e-05, tolerance: 1.352e-05\n",
      "  model = cd_fast.enet_coordinate_descent(\n",
      "/Users/charleston/.pyenv/versions/3.11.0/lib/python3.11/site-packages/sklearn/linear_model/_coordinate_descent.py:697: ConvergenceWarning: Objective did not converge. You might want to increase the number of iterations, check the scale of the features or consider increasing regularisation. Duality gap: 1.051e-04, tolerance: 1.352e-05\n",
      "  model = cd_fast.enet_coordinate_descent(\n",
      "/Users/charleston/.pyenv/versions/3.11.0/lib/python3.11/site-packages/sklearn/linear_model/_coordinate_descent.py:697: ConvergenceWarning: Objective did not converge. You might want to increase the number of iterations, check the scale of the features or consider increasing regularisation. Duality gap: 9.057e-05, tolerance: 1.352e-05\n",
      "  model = cd_fast.enet_coordinate_descent(\n",
      "/Users/charleston/.pyenv/versions/3.11.0/lib/python3.11/site-packages/sklearn/linear_model/_coordinate_descent.py:697: ConvergenceWarning: Objective did not converge. You might want to increase the number of iterations, check the scale of the features or consider increasing regularisation. Duality gap: 1.133e-04, tolerance: 1.352e-05\n",
      "  model = cd_fast.enet_coordinate_descent(\n",
      "/Users/charleston/.pyenv/versions/3.11.0/lib/python3.11/site-packages/sklearn/linear_model/_coordinate_descent.py:697: ConvergenceWarning: Objective did not converge. You might want to increase the number of iterations, check the scale of the features or consider increasing regularisation. Duality gap: 1.447e-04, tolerance: 1.352e-05\n",
      "  model = cd_fast.enet_coordinate_descent(\n",
      "/Users/charleston/.pyenv/versions/3.11.0/lib/python3.11/site-packages/sklearn/linear_model/_coordinate_descent.py:697: ConvergenceWarning: Objective did not converge. You might want to increase the number of iterations, check the scale of the features or consider increasing regularisation. Duality gap: 1.229e-04, tolerance: 1.352e-05\n",
      "  model = cd_fast.enet_coordinate_descent(\n",
      "/Users/charleston/.pyenv/versions/3.11.0/lib/python3.11/site-packages/sklearn/linear_model/_coordinate_descent.py:697: ConvergenceWarning: Objective did not converge. You might want to increase the number of iterations, check the scale of the features or consider increasing regularisation. Duality gap: 1.010e-04, tolerance: 1.352e-05\n",
      "  model = cd_fast.enet_coordinate_descent(\n",
      "/Users/charleston/.pyenv/versions/3.11.0/lib/python3.11/site-packages/sklearn/linear_model/_coordinate_descent.py:697: ConvergenceWarning: Objective did not converge. You might want to increase the number of iterations, check the scale of the features or consider increasing regularisation. Duality gap: 1.706e-05, tolerance: 1.311e-05\n",
      "  model = cd_fast.enet_coordinate_descent(\n",
      "/Users/charleston/.pyenv/versions/3.11.0/lib/python3.11/site-packages/sklearn/linear_model/_coordinate_descent.py:697: ConvergenceWarning: Objective did not converge. You might want to increase the number of iterations, check the scale of the features or consider increasing regularisation. Duality gap: 3.980e-05, tolerance: 1.311e-05\n",
      "  model = cd_fast.enet_coordinate_descent(\n",
      "/Users/charleston/.pyenv/versions/3.11.0/lib/python3.11/site-packages/sklearn/linear_model/_coordinate_descent.py:697: ConvergenceWarning: Objective did not converge. You might want to increase the number of iterations, check the scale of the features or consider increasing regularisation. Duality gap: 6.536e-05, tolerance: 1.311e-05\n",
      "  model = cd_fast.enet_coordinate_descent(\n",
      "/Users/charleston/.pyenv/versions/3.11.0/lib/python3.11/site-packages/sklearn/linear_model/_coordinate_descent.py:697: ConvergenceWarning: Objective did not converge. You might want to increase the number of iterations, check the scale of the features or consider increasing regularisation. Duality gap: 4.879e-05, tolerance: 1.311e-05\n",
      "  model = cd_fast.enet_coordinate_descent(\n",
      "/Users/charleston/.pyenv/versions/3.11.0/lib/python3.11/site-packages/sklearn/linear_model/_coordinate_descent.py:697: ConvergenceWarning: Objective did not converge. You might want to increase the number of iterations, check the scale of the features or consider increasing regularisation. Duality gap: 6.675e-05, tolerance: 1.311e-05\n",
      "  model = cd_fast.enet_coordinate_descent(\n",
      "/Users/charleston/.pyenv/versions/3.11.0/lib/python3.11/site-packages/sklearn/linear_model/_coordinate_descent.py:697: ConvergenceWarning: Objective did not converge. You might want to increase the number of iterations, check the scale of the features or consider increasing regularisation. Duality gap: 1.173e-04, tolerance: 1.311e-05\n",
      "  model = cd_fast.enet_coordinate_descent(\n",
      "/Users/charleston/.pyenv/versions/3.11.0/lib/python3.11/site-packages/sklearn/linear_model/_coordinate_descent.py:697: ConvergenceWarning: Objective did not converge. You might want to increase the number of iterations, check the scale of the features or consider increasing regularisation. Duality gap: 6.694e-05, tolerance: 1.311e-05\n",
      "  model = cd_fast.enet_coordinate_descent(\n",
      "/Users/charleston/.pyenv/versions/3.11.0/lib/python3.11/site-packages/sklearn/linear_model/_coordinate_descent.py:697: ConvergenceWarning: Objective did not converge. You might want to increase the number of iterations, check the scale of the features or consider increasing regularisation. Duality gap: 2.776e-05, tolerance: 1.311e-05\n",
      "  model = cd_fast.enet_coordinate_descent(\n",
      "/Users/charleston/.pyenv/versions/3.11.0/lib/python3.11/site-packages/sklearn/linear_model/_coordinate_descent.py:697: ConvergenceWarning: Objective did not converge. You might want to increase the number of iterations, check the scale of the features or consider increasing regularisation. Duality gap: 9.641e-05, tolerance: 1.311e-05\n",
      "  model = cd_fast.enet_coordinate_descent(\n",
      "/Users/charleston/.pyenv/versions/3.11.0/lib/python3.11/site-packages/sklearn/linear_model/_coordinate_descent.py:697: ConvergenceWarning: Objective did not converge. You might want to increase the number of iterations, check the scale of the features or consider increasing regularisation. Duality gap: 1.312e-04, tolerance: 1.311e-05\n",
      "  model = cd_fast.enet_coordinate_descent(\n",
      "/Users/charleston/.pyenv/versions/3.11.0/lib/python3.11/site-packages/sklearn/linear_model/_coordinate_descent.py:697: ConvergenceWarning: Objective did not converge. You might want to increase the number of iterations, check the scale of the features or consider increasing regularisation. Duality gap: 1.914e-04, tolerance: 1.311e-05\n",
      "  model = cd_fast.enet_coordinate_descent(\n",
      "/Users/charleston/.pyenv/versions/3.11.0/lib/python3.11/site-packages/sklearn/linear_model/_coordinate_descent.py:697: ConvergenceWarning: Objective did not converge. You might want to increase the number of iterations, check the scale of the features or consider increasing regularisation. Duality gap: 1.614e-04, tolerance: 1.311e-05\n",
      "  model = cd_fast.enet_coordinate_descent(\n",
      "/Users/charleston/.pyenv/versions/3.11.0/lib/python3.11/site-packages/sklearn/linear_model/_coordinate_descent.py:697: ConvergenceWarning: Objective did not converge. You might want to increase the number of iterations, check the scale of the features or consider increasing regularisation. Duality gap: 7.684e-05, tolerance: 1.311e-05\n",
      "  model = cd_fast.enet_coordinate_descent(\n",
      "/Users/charleston/.pyenv/versions/3.11.0/lib/python3.11/site-packages/sklearn/linear_model/_coordinate_descent.py:697: ConvergenceWarning: Objective did not converge. You might want to increase the number of iterations, check the scale of the features or consider increasing regularisation. Duality gap: 8.798e-05, tolerance: 1.311e-05\n",
      "  model = cd_fast.enet_coordinate_descent(\n",
      "/Users/charleston/.pyenv/versions/3.11.0/lib/python3.11/site-packages/sklearn/linear_model/_coordinate_descent.py:697: ConvergenceWarning: Objective did not converge. You might want to increase the number of iterations, check the scale of the features or consider increasing regularisation. Duality gap: 7.864e-05, tolerance: 1.311e-05\n",
      "  model = cd_fast.enet_coordinate_descent(\n",
      "/Users/charleston/.pyenv/versions/3.11.0/lib/python3.11/site-packages/sklearn/linear_model/_coordinate_descent.py:697: ConvergenceWarning: Objective did not converge. You might want to increase the number of iterations, check the scale of the features or consider increasing regularisation. Duality gap: 3.397e-05, tolerance: 1.311e-05\n",
      "  model = cd_fast.enet_coordinate_descent(\n",
      "/Users/charleston/.pyenv/versions/3.11.0/lib/python3.11/site-packages/sklearn/linear_model/_coordinate_descent.py:697: ConvergenceWarning: Objective did not converge. You might want to increase the number of iterations, check the scale of the features or consider increasing regularisation. Duality gap: 3.584e-05, tolerance: 1.311e-05\n",
      "  model = cd_fast.enet_coordinate_descent(\n",
      "/Users/charleston/.pyenv/versions/3.11.0/lib/python3.11/site-packages/sklearn/linear_model/_coordinate_descent.py:697: ConvergenceWarning: Objective did not converge. You might want to increase the number of iterations, check the scale of the features or consider increasing regularisation. Duality gap: 1.081e-04, tolerance: 1.311e-05\n",
      "  model = cd_fast.enet_coordinate_descent(\n",
      "/Users/charleston/.pyenv/versions/3.11.0/lib/python3.11/site-packages/sklearn/linear_model/_coordinate_descent.py:697: ConvergenceWarning: Objective did not converge. You might want to increase the number of iterations, check the scale of the features or consider increasing regularisation. Duality gap: 5.111e-05, tolerance: 1.311e-05\n",
      "  model = cd_fast.enet_coordinate_descent(\n",
      "/Users/charleston/.pyenv/versions/3.11.0/lib/python3.11/site-packages/sklearn/linear_model/_coordinate_descent.py:697: ConvergenceWarning: Objective did not converge. You might want to increase the number of iterations, check the scale of the features or consider increasing regularisation. Duality gap: 4.139e-05, tolerance: 1.311e-05\n",
      "  model = cd_fast.enet_coordinate_descent(\n",
      "/Users/charleston/.pyenv/versions/3.11.0/lib/python3.11/site-packages/sklearn/linear_model/_coordinate_descent.py:697: ConvergenceWarning: Objective did not converge. You might want to increase the number of iterations, check the scale of the features or consider increasing regularisation. Duality gap: 5.079e-05, tolerance: 1.311e-05\n",
      "  model = cd_fast.enet_coordinate_descent(\n",
      "/Users/charleston/.pyenv/versions/3.11.0/lib/python3.11/site-packages/sklearn/linear_model/_coordinate_descent.py:697: ConvergenceWarning: Objective did not converge. You might want to increase the number of iterations, check the scale of the features or consider increasing regularisation. Duality gap: 2.937e-05, tolerance: 1.311e-05\n",
      "  model = cd_fast.enet_coordinate_descent(\n",
      "/Users/charleston/.pyenv/versions/3.11.0/lib/python3.11/site-packages/sklearn/linear_model/_coordinate_descent.py:697: ConvergenceWarning: Objective did not converge. You might want to increase the number of iterations, check the scale of the features or consider increasing regularisation. Duality gap: 2.160e-05, tolerance: 1.311e-05\n",
      "  model = cd_fast.enet_coordinate_descent(\n",
      "/Users/charleston/.pyenv/versions/3.11.0/lib/python3.11/site-packages/sklearn/linear_model/_coordinate_descent.py:697: ConvergenceWarning: Objective did not converge. You might want to increase the number of iterations, check the scale of the features or consider increasing regularisation. Duality gap: 7.210e-05, tolerance: 1.311e-05\n",
      "  model = cd_fast.enet_coordinate_descent(\n",
      "/Users/charleston/.pyenv/versions/3.11.0/lib/python3.11/site-packages/sklearn/linear_model/_coordinate_descent.py:697: ConvergenceWarning: Objective did not converge. You might want to increase the number of iterations, check the scale of the features or consider increasing regularisation. Duality gap: 5.439e-05, tolerance: 1.311e-05\n",
      "  model = cd_fast.enet_coordinate_descent(\n",
      "/Users/charleston/.pyenv/versions/3.11.0/lib/python3.11/site-packages/sklearn/linear_model/_coordinate_descent.py:697: ConvergenceWarning: Objective did not converge. You might want to increase the number of iterations, check the scale of the features or consider increasing regularisation. Duality gap: 6.205e-05, tolerance: 1.311e-05\n",
      "  model = cd_fast.enet_coordinate_descent(\n",
      "/Users/charleston/.pyenv/versions/3.11.0/lib/python3.11/site-packages/sklearn/linear_model/_coordinate_descent.py:697: ConvergenceWarning: Objective did not converge. You might want to increase the number of iterations, check the scale of the features or consider increasing regularisation. Duality gap: 3.507e-05, tolerance: 1.311e-05\n",
      "  model = cd_fast.enet_coordinate_descent(\n",
      "/Users/charleston/.pyenv/versions/3.11.0/lib/python3.11/site-packages/sklearn/linear_model/_coordinate_descent.py:697: ConvergenceWarning: Objective did not converge. You might want to increase the number of iterations, check the scale of the features or consider increasing regularisation. Duality gap: 4.756e-05, tolerance: 1.311e-05\n",
      "  model = cd_fast.enet_coordinate_descent(\n",
      "/Users/charleston/.pyenv/versions/3.11.0/lib/python3.11/site-packages/sklearn/linear_model/_coordinate_descent.py:697: ConvergenceWarning: Objective did not converge. You might want to increase the number of iterations, check the scale of the features or consider increasing regularisation. Duality gap: 1.125e-04, tolerance: 1.311e-05\n",
      "  model = cd_fast.enet_coordinate_descent(\n",
      "/Users/charleston/.pyenv/versions/3.11.0/lib/python3.11/site-packages/sklearn/linear_model/_coordinate_descent.py:697: ConvergenceWarning: Objective did not converge. You might want to increase the number of iterations, check the scale of the features or consider increasing regularisation. Duality gap: 7.102e-05, tolerance: 1.311e-05\n",
      "  model = cd_fast.enet_coordinate_descent(\n",
      "/Users/charleston/.pyenv/versions/3.11.0/lib/python3.11/site-packages/sklearn/linear_model/_coordinate_descent.py:697: ConvergenceWarning: Objective did not converge. You might want to increase the number of iterations, check the scale of the features or consider increasing regularisation. Duality gap: 3.664e-05, tolerance: 1.311e-05\n",
      "  model = cd_fast.enet_coordinate_descent(\n",
      "/Users/charleston/.pyenv/versions/3.11.0/lib/python3.11/site-packages/sklearn/linear_model/_coordinate_descent.py:697: ConvergenceWarning: Objective did not converge. You might want to increase the number of iterations, check the scale of the features or consider increasing regularisation. Duality gap: 4.949e-05, tolerance: 1.311e-05\n",
      "  model = cd_fast.enet_coordinate_descent(\n",
      "/Users/charleston/.pyenv/versions/3.11.0/lib/python3.11/site-packages/sklearn/linear_model/_coordinate_descent.py:697: ConvergenceWarning: Objective did not converge. You might want to increase the number of iterations, check the scale of the features or consider increasing regularisation. Duality gap: 6.400e-05, tolerance: 1.311e-05\n",
      "  model = cd_fast.enet_coordinate_descent(\n",
      "/Users/charleston/.pyenv/versions/3.11.0/lib/python3.11/site-packages/sklearn/linear_model/_coordinate_descent.py:697: ConvergenceWarning: Objective did not converge. You might want to increase the number of iterations, check the scale of the features or consider increasing regularisation. Duality gap: 9.361e-05, tolerance: 1.311e-05\n",
      "  model = cd_fast.enet_coordinate_descent(\n",
      "/Users/charleston/.pyenv/versions/3.11.0/lib/python3.11/site-packages/sklearn/linear_model/_coordinate_descent.py:697: ConvergenceWarning: Objective did not converge. You might want to increase the number of iterations, check the scale of the features or consider increasing regularisation. Duality gap: 1.767e-04, tolerance: 1.311e-05\n",
      "  model = cd_fast.enet_coordinate_descent(\n",
      "/Users/charleston/.pyenv/versions/3.11.0/lib/python3.11/site-packages/sklearn/linear_model/_coordinate_descent.py:697: ConvergenceWarning: Objective did not converge. You might want to increase the number of iterations, check the scale of the features or consider increasing regularisation. Duality gap: 1.667e-04, tolerance: 1.311e-05\n",
      "  model = cd_fast.enet_coordinate_descent(\n",
      "/Users/charleston/.pyenv/versions/3.11.0/lib/python3.11/site-packages/sklearn/linear_model/_coordinate_descent.py:697: ConvergenceWarning: Objective did not converge. You might want to increase the number of iterations, check the scale of the features or consider increasing regularisation. Duality gap: 1.294e-04, tolerance: 1.311e-05\n",
      "  model = cd_fast.enet_coordinate_descent(\n",
      "/Users/charleston/.pyenv/versions/3.11.0/lib/python3.11/site-packages/sklearn/linear_model/_coordinate_descent.py:697: ConvergenceWarning: Objective did not converge. You might want to increase the number of iterations, check the scale of the features or consider increasing regularisation. Duality gap: 1.037e-04, tolerance: 1.311e-05\n",
      "  model = cd_fast.enet_coordinate_descent(\n",
      "/Users/charleston/.pyenv/versions/3.11.0/lib/python3.11/site-packages/sklearn/linear_model/_coordinate_descent.py:697: ConvergenceWarning: Objective did not converge. You might want to increase the number of iterations, check the scale of the features or consider increasing regularisation. Duality gap: 8.638e-05, tolerance: 1.311e-05\n",
      "  model = cd_fast.enet_coordinate_descent(\n"
     ]
    }
   ],
   "source": [
    "cv_lasso = sklearn.linear_model.LassoCV().fit(rets_spx, rets_bench[['GLD']])\n",
    "lasso_penalty = cv_lasso.alpha_"
   ]
  },
  {
   "cell_type": "code",
   "execution_count": 24,
   "id": "74c6b85c",
   "metadata": {},
   "outputs": [
    {
     "name": "stdout",
     "output_type": "stream",
     "text": [
      "RIDGE penalty parameter estimated from cross validation is 1.0, while LASSO penalty parameter estimated from cross validation is 4.195194791405444e-05\n"
     ]
    }
   ],
   "source": [
    "print(f\"RIDGE penalty parameter estimated from cross validation is {ridge_penalty}, while LASSO penalty parameter estimated from cross validation is {lasso_penalty}\")"
   ]
  },
  {
   "cell_type": "markdown",
   "id": "b2be6532-27ba-4fee-8553-f333396cfe51",
   "metadata": {},
   "source": [
    "***"
   ]
  },
  {
   "cell_type": "markdown",
   "id": "7528eccf-3176-4559-bb67-dfb6791462c9",
   "metadata": {},
   "source": [
    "# 6.\n",
    "\n",
    "Use your estimations based on data through 2022 to fit the model for 2023-2024. Use the CV penalty parameters (from the previous problem) for Ridge and Lasso.\n",
    "\n",
    "* What is the r-squared in these out-of-sample fits?\n",
    "\n",
    "\n",
    "#### Note\n",
    "Doing this is really easy in Python. For instance, for the LASSO estimation, you could try\n",
    "\n",
    "`est = Lasso(alpha=ALPHA).fit(X,y)`\n",
    "\n",
    "`score_is = est.score(X_insamp,y_insamp)`\n",
    "\n",
    "`score_oos = est.score(X_oos,y_oos)`\n",
    "\n",
    "Which method does better out-of-sample?"
   ]
  },
  {
   "cell_type": "markdown",
   "id": "585a37ae-65b3-4dec-9395-636c15fd6bed",
   "metadata": {},
   "source": [
    "***"
   ]
  },
  {
   "cell_type": "code",
   "execution_count": 25,
   "id": "f5e3db48",
   "metadata": {},
   "outputs": [],
   "source": [
    "# Filter in sample\n",
    "X_insamp = rets_spx.loc[rets_spx.index < \"2023-01-01\"]\n",
    "y_insamp = rets_bench[['GLD']].loc[rets_bench.index < \"2023-01-01\"]\n",
    "\n",
    "# Filter out of sample\n",
    "X_oos = rets_spx.loc[rets_spx.index >= \"2023-01-01\"]\n",
    "y_oos = rets_bench[['GLD']].loc[rets_bench.index >= \"2023-01-01\"]"
   ]
  },
  {
   "cell_type": "code",
   "execution_count": 26,
   "id": "bb38d819",
   "metadata": {},
   "outputs": [
    {
     "data": {
      "text/plain": [
       "(0.6284398615836027, 0.462719446915104)"
      ]
     },
     "execution_count": 26,
     "metadata": {},
     "output_type": "execute_result"
    }
   ],
   "source": [
    "# LASSO\n",
    "lasso_model = linear_model.Lasso(alpha=lasso_penalty).fit(X_insamp,y_insamp)\n",
    "\n",
    "lasso_score_is = lasso_model.score(X_insamp,y_insamp)\n",
    "\n",
    "lasso_score_oos = lasso_model.score(X_oos,y_oos)\n",
    "\n",
    "lasso_score_is, lasso_score_oos\n"
   ]
  },
  {
   "cell_type": "code",
   "execution_count": 27,
   "id": "0325e905",
   "metadata": {},
   "outputs": [
    {
     "data": {
      "text/plain": [
       "(0.6616561080581611, 0.35599569449854607)"
      ]
     },
     "execution_count": 27,
     "metadata": {},
     "output_type": "execute_result"
    }
   ],
   "source": [
    "# RIDGE\n",
    "ridge_model = linear_model.Ridge(alpha=ridge_penalty).fit(X_insamp,y_insamp)\n",
    "\n",
    "ridge_score_is = ridge_model.score(X_insamp,y_insamp)\n",
    "\n",
    "ridge_score_oos = ridge_model.score(X_oos,y_oos)\n",
    "\n",
    "ridge_score_is, ridge_score_oos"
   ]
  },
  {
   "cell_type": "markdown",
   "id": "430b0108",
   "metadata": {},
   "source": [
    "According to the R-Squared, LASSO does better out of sample than RIDGE. "
   ]
  }
 ],
 "metadata": {
  "codeCellConfig": {
   "lineNumbers": true
  },
  "hide_input": false,
  "kernelspec": {
   "display_name": "Python 3 (ipykernel)",
   "language": "python",
   "name": "python3"
  },
  "language_info": {
   "codemirror_mode": {
    "name": "ipython",
    "version": 3
   },
   "file_extension": ".py",
   "mimetype": "text/x-python",
   "name": "python",
   "nbconvert_exporter": "python",
   "pygments_lexer": "ipython3",
   "version": "3.11.0"
  },
  "markdownCellConfig": {
   "lineNumbers": true
  },
  "numberCellsToRenderDirectly": 10000000000000,
  "renderCellOnIdle": false,
  "toc": {
   "base_numbering": 1,
   "nav_menu": {},
   "number_sections": false,
   "sideBar": true,
   "skip_h1_title": false,
   "title_cell": "Table of Contents",
   "title_sidebar": "Contents",
   "toc_cell": false,
   "toc_position": {},
   "toc_section_display": true,
   "toc_window_display": false
  },
  "varInspector": {
   "cols": {
    "lenName": 16,
    "lenType": 16,
    "lenVar": 40
   },
   "kernels_config": {
    "python": {
     "delete_cmd_postfix": "",
     "delete_cmd_prefix": "del ",
     "library": "var_list.py",
     "varRefreshCmd": "print(var_dic_list())"
    },
    "r": {
     "delete_cmd_postfix": ") ",
     "delete_cmd_prefix": "rm(",
     "library": "var_list.r",
     "varRefreshCmd": "cat(var_dic_list()) "
    }
   },
   "types_to_exclude": [
    "module",
    "function",
    "builtin_function_or_method",
    "instance",
    "_Feature"
   ],
   "window_display": false
  }
 },
 "nbformat": 4,
 "nbformat_minor": 5
}
