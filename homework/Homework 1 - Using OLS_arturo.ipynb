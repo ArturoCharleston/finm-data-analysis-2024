{
 "cells": [
  {
   "cell_type": "markdown",
   "id": "ce9737a3",
   "metadata": {},
   "source": [
    "# Homework 1 - Using OLS\n",
    "## Data Analysis\n",
    "### FINM August Review \n",
    "\n",
    "Mark Hendricks\n",
    "\n",
    "hendricks@uchicago.edu"
   ]
  },
  {
   "cell_type": "markdown",
   "id": "1ff90b93",
   "metadata": {},
   "source": [
    "$$\\newcommand{\\spy}{\\text{spy}}$$\n",
    "$$\\newcommand{\\hyg}{\\text{hyg}}$$\n",
    "\n",
    "# Data\n",
    "* This homework uses the file, `data/multi_asset_etf_data.xlsx`.\n",
    "* Find the data in the Github repo associated with the module, (link on Canvas.)\n",
    "\n",
    "The data file contains...\n",
    "* Return rates, $r_t^i$, for various asset classes, (via ETFs.)\n",
    "* Most notable among these securities is SPY, the return on the S&P 500. Denote this as $r^{\\spy}_t$.\n",
    "* A separate tab gives return rates for a particular portfolio, $r_t^p$."
   ]
  },
  {
   "cell_type": "markdown",
   "id": "d84a7268-c6d7-44a8-9448-b0fa710991e0",
   "metadata": {},
   "source": [
    "***"
   ]
  },
  {
   "cell_type": "markdown",
   "id": "3d6742cb",
   "metadata": {},
   "source": [
    "# 1. Regression\n",
    "## 1. \n",
    "Estimate the regression of the portfolio return on SPY:\n",
    "\n",
    "$$r^p_t = \\alpha + \\beta r^{\\spy}_t + \\epsilon_t^{p,\\spy}$$\n",
    "\n",
    "Specifically, report your estimates of alpha, beta, and the r-squared.\n"
   ]
  },
  {
   "cell_type": "code",
   "execution_count": 1,
   "id": "a43d0d4a",
   "metadata": {},
   "outputs": [],
   "source": [
    "# PACKAGES\n",
    "import pandas as pd\n",
    "import numpy as np\n",
    "from sklearn.linear_model import LinearRegression\n",
    "from sklearn.metrics import r2_score\n",
    "import statsmodels.api as sm\n",
    "import matplotlib.pyplot as plt\n"
   ]
  },
  {
   "cell_type": "code",
   "execution_count": 2,
   "id": "116cd21d",
   "metadata": {},
   "outputs": [
    {
     "data": {
      "text/html": [
       "<div>\n",
       "<style scoped>\n",
       "    .dataframe tbody tr th:only-of-type {\n",
       "        vertical-align: middle;\n",
       "    }\n",
       "\n",
       "    .dataframe tbody tr th {\n",
       "        vertical-align: top;\n",
       "    }\n",
       "\n",
       "    .dataframe thead th {\n",
       "        text-align: right;\n",
       "    }\n",
       "</style>\n",
       "<table border=\"1\" class=\"dataframe\">\n",
       "  <thead>\n",
       "    <tr style=\"text-align: right;\">\n",
       "      <th></th>\n",
       "      <th>Date</th>\n",
       "      <th>SPY</th>\n",
       "      <th>EFA</th>\n",
       "      <th>EEM</th>\n",
       "      <th>PSP</th>\n",
       "      <th>QAI</th>\n",
       "      <th>HYG</th>\n",
       "      <th>DBC</th>\n",
       "      <th>IYR</th>\n",
       "      <th>IEF</th>\n",
       "      <th>BWX</th>\n",
       "      <th>TIP</th>\n",
       "      <th>SHV</th>\n",
       "    </tr>\n",
       "  </thead>\n",
       "  <tbody>\n",
       "    <tr>\n",
       "      <th>0</th>\n",
       "      <td>2009-04-30</td>\n",
       "      <td>0.099346</td>\n",
       "      <td>0.115190</td>\n",
       "      <td>0.155582</td>\n",
       "      <td>0.230203</td>\n",
       "      <td>0.022883</td>\n",
       "      <td>0.138460</td>\n",
       "      <td>-0.001000</td>\n",
       "      <td>0.296151</td>\n",
       "      <td>-0.027453</td>\n",
       "      <td>0.008993</td>\n",
       "      <td>-0.017951</td>\n",
       "      <td>0.000553</td>\n",
       "    </tr>\n",
       "    <tr>\n",
       "      <th>1</th>\n",
       "      <td>2009-05-31</td>\n",
       "      <td>0.058454</td>\n",
       "      <td>0.131918</td>\n",
       "      <td>0.159400</td>\n",
       "      <td>0.053892</td>\n",
       "      <td>0.027865</td>\n",
       "      <td>0.028555</td>\n",
       "      <td>0.162663</td>\n",
       "      <td>0.022728</td>\n",
       "      <td>-0.020773</td>\n",
       "      <td>0.053672</td>\n",
       "      <td>0.019966</td>\n",
       "      <td>-0.000472</td>\n",
       "    </tr>\n",
       "    <tr>\n",
       "      <th>2</th>\n",
       "      <td>2009-06-30</td>\n",
       "      <td>-0.000655</td>\n",
       "      <td>-0.014049</td>\n",
       "      <td>-0.022495</td>\n",
       "      <td>0.045449</td>\n",
       "      <td>-0.003436</td>\n",
       "      <td>0.033517</td>\n",
       "      <td>-0.026259</td>\n",
       "      <td>-0.024863</td>\n",
       "      <td>-0.005571</td>\n",
       "      <td>0.005148</td>\n",
       "      <td>0.001981</td>\n",
       "      <td>0.000599</td>\n",
       "    </tr>\n",
       "    <tr>\n",
       "      <th>3</th>\n",
       "      <td>2009-07-31</td>\n",
       "      <td>0.074606</td>\n",
       "      <td>0.100415</td>\n",
       "      <td>0.110146</td>\n",
       "      <td>0.143247</td>\n",
       "      <td>0.015326</td>\n",
       "      <td>0.069190</td>\n",
       "      <td>0.018568</td>\n",
       "      <td>0.105799</td>\n",
       "      <td>0.008317</td>\n",
       "      <td>0.031284</td>\n",
       "      <td>0.000879</td>\n",
       "      <td>-0.000027</td>\n",
       "    </tr>\n",
       "    <tr>\n",
       "      <th>4</th>\n",
       "      <td>2009-08-31</td>\n",
       "      <td>0.036940</td>\n",
       "      <td>0.045030</td>\n",
       "      <td>-0.013136</td>\n",
       "      <td>0.033413</td>\n",
       "      <td>-0.004151</td>\n",
       "      <td>-0.016969</td>\n",
       "      <td>-0.040365</td>\n",
       "      <td>0.131939</td>\n",
       "      <td>0.007635</td>\n",
       "      <td>0.007628</td>\n",
       "      <td>0.008413</td>\n",
       "      <td>0.000436</td>\n",
       "    </tr>\n",
       "  </tbody>\n",
       "</table>\n",
       "</div>"
      ],
      "text/plain": [
       "        Date       SPY       EFA       EEM       PSP       QAI       HYG  \\\n",
       "0 2009-04-30  0.099346  0.115190  0.155582  0.230203  0.022883  0.138460   \n",
       "1 2009-05-31  0.058454  0.131918  0.159400  0.053892  0.027865  0.028555   \n",
       "2 2009-06-30 -0.000655 -0.014049 -0.022495  0.045449 -0.003436  0.033517   \n",
       "3 2009-07-31  0.074606  0.100415  0.110146  0.143247  0.015326  0.069190   \n",
       "4 2009-08-31  0.036940  0.045030 -0.013136  0.033413 -0.004151 -0.016969   \n",
       "\n",
       "        DBC       IYR       IEF       BWX       TIP       SHV  \n",
       "0 -0.001000  0.296151 -0.027453  0.008993 -0.017951  0.000553  \n",
       "1  0.162663  0.022728 -0.020773  0.053672  0.019966 -0.000472  \n",
       "2 -0.026259 -0.024863 -0.005571  0.005148  0.001981  0.000599  \n",
       "3  0.018568  0.105799  0.008317  0.031284  0.000879 -0.000027  \n",
       "4 -0.040365  0.131939  0.007635  0.007628  0.008413  0.000436  "
      ]
     },
     "execution_count": 2,
     "metadata": {},
     "output_type": "execute_result"
    }
   ],
   "source": [
    "# Read the data\n",
    "etf_returns = pd.DataFrame(pd.read_excel(r'../data/multi_asset_etf_data.xlsx', sheet_name= 'total returns'))\n",
    "\n",
    "etf_returns.head(5)\n"
   ]
  },
  {
   "cell_type": "code",
   "execution_count": 3,
   "id": "8e262bd4",
   "metadata": {},
   "outputs": [
    {
     "data": {
      "text/plain": [
       "(182, 1)"
      ]
     },
     "execution_count": 3,
     "metadata": {},
     "output_type": "execute_result"
    }
   ],
   "source": [
    "portfolio_returns = pd.DataFrame(pd.read_excel(r'../data/multi_asset_etf_data.xlsx', sheet_name= 'portfolio returns'))\n",
    "\n",
    "portfolio_returns = portfolio_returns[['portfolio']]\n",
    "\n",
    "portfolio_returns.head(5)\n",
    "portfolio_returns.shape"
   ]
  },
  {
   "cell_type": "code",
   "execution_count": 4,
   "id": "3be441ee",
   "metadata": {},
   "outputs": [
    {
     "data": {
      "text/plain": [
       "(182, 1)"
      ]
     },
     "execution_count": 4,
     "metadata": {},
     "output_type": "execute_result"
    }
   ],
   "source": [
    "# Reshape the data\n",
    "#portfolio_returns = portfolio_returns.values.reshape(-1, 1)\n",
    "#spy_returns = spy_returns.values.reshape(-1, 1)\n",
    "\n",
    "spy_returns = etf_returns[['SPY']]\n",
    "\n",
    "spy_returns.head(5)\n",
    "spy_returns.shape\n"
   ]
  },
  {
   "cell_type": "code",
   "execution_count": 5,
   "id": "4de857c0",
   "metadata": {},
   "outputs": [
    {
     "name": "stdout",
     "output_type": "stream",
     "text": [
      "Intercept (alpha): -0.0016282386799185457\n",
      "Coefficient (beta): 0.6525033168749357\n",
      "R^2: 0.7615855536403913\n"
     ]
    }
   ],
   "source": [
    "# Do the regression and show the coefficients\n",
    "model = LinearRegression()\n",
    "model.fit(spy_returns, portfolio_returns)\n",
    "\n",
    "# Report Alpha, Beta, and R2\n",
    "print(f\"Intercept (alpha): {model.intercept_[0]}\")\n",
    "print(f\"Coefficient (beta): {model.coef_[0][0]}\")\n",
    "print(f\"R^2: {r2_score(portfolio_returns, model.predict(spy_returns))}\")\n"
   ]
  },
  {
   "cell_type": "markdown",
   "id": "a70952da",
   "metadata": {},
   "source": [
    "\n",
    "## 2. \n",
    "Estimate the regression of the portfolio return on SPY and on HYG, the return on high-yield\n",
    "corporate bonds, denoted as $r^{\\hyg}_t$:\n",
    "\n",
    "$$r^p_t = {\\alpha} + {\\beta}^{\\spy}r^{\\spy}_t + {\\beta}^{\\hyg}r^{\\hyg}_t + {\\epsilon}_t$$\n",
    "\n",
    "Specifically, report your estimates of alpha, the betas, and the r-squared.\n",
    "\n",
    "*Note that the parameters (such as $\\beta^{\\spy}$) in this multivariate model are not the same as used in the univariate model of part 1. \n",
    "\n"
   ]
  },
  {
   "cell_type": "code",
   "execution_count": 6,
   "id": "4d5aef65",
   "metadata": {},
   "outputs": [
    {
     "name": "stdout",
     "output_type": "stream",
     "text": [
      "Intercept (alpha): -0.0016713542040654172\n",
      "Coefficients (betas): (np.float64(0.404790304602686), np.float64(0.5369973848150131))\n",
      "R^2: 0.8353634880706727\n"
     ]
    }
   ],
   "source": [
    "X = etf_returns[['SPY', 'HYG']]\n",
    "\n",
    "# Do the regression and show the coefficients\n",
    "model_multiple = LinearRegression()\n",
    "model_multiple.fit(X, portfolio_returns)\n",
    "\n",
    "# Report Alpha, Beta, and R2\n",
    "print(f\"Intercept (alpha): {model_multiple.intercept_[0]}\")\n",
    "print(f\"Coefficients (betas): {model_multiple.coef_[0][0], model_multiple.coef_[0][1]}\")\n",
    "print(f\"R^2: {model_multiple.score(X, portfolio_returns)}\")\n"
   ]
  },
  {
   "cell_type": "markdown",
   "id": "12f03e1c",
   "metadata": {},
   "source": [
    "## 3. \n",
    "Calculate the series of fitted regression values, sometimes referred to as $\\hat{y}$ in standard textbooks:\n",
    "\n",
    "$$\\hat{r}^p_t = \\hat{\\alpha} + \\hat{\\beta}^{\\spy}r^{\\spy}_t + \\hat{\\beta}^{\\hyg}r^{\\hyg}_t$$\n",
    "\n",
    "Your statistical package will output these fitted values for you, or you can construct them using the estimated parameters.\n",
    "\n",
    "How does this compare to the r-squared of the regression in problem 2?\n"
   ]
  },
  {
   "cell_type": "code",
   "execution_count": 7,
   "id": "b7614018",
   "metadata": {},
   "outputs": [
    {
     "data": {
      "text/plain": [
       "array([[ 0.11289575],\n",
       "       [ 0.0373241 ],\n",
       "       [ 0.0160621 ],\n",
       "       [ 0.06568318],\n",
       "       [ 0.00416929],\n",
       "       [ 0.04382168],\n",
       "       [-0.01236898],\n",
       "       [ 0.03231214],\n",
       "       [ 0.02584719],\n",
       "       [-0.02622452],\n",
       "       [ 0.0210157 ],\n",
       "       [ 0.03442909],\n",
       "       [ 0.01492541],\n",
       "       [-0.0589416 ],\n",
       "       [-0.01664871],\n",
       "       [ 0.05364891],\n",
       "       [-0.02519254],\n",
       "       [ 0.0542223 ],\n",
       "       [ 0.02365841],\n",
       "       [-0.00851655],\n",
       "       [ 0.04038717],\n",
       "       [ 0.01662186],\n",
       "       [ 0.02009905],\n",
       "       [-0.00139521],\n",
       "       [ 0.01863086],\n",
       "       [-0.00549506],\n",
       "       [-0.01156448],\n",
       "       [-0.00786299],\n",
       "       [-0.03857544],\n",
       "       [-0.05824073],\n",
       "       [ 0.08811055],\n",
       "       [-0.01634842],\n",
       "       [ 0.02700244],\n",
       "       [ 0.02496632],\n",
       "       [ 0.02718859],\n",
       "       [ 0.00622957],\n",
       "       [ 0.00173015],\n",
       "       [-0.04327697],\n",
       "       [ 0.03976265],\n",
       "       [ 0.00860678],\n",
       "       [ 0.01515296],\n",
       "       [ 0.01138599],\n",
       "       [-0.00450501],\n",
       "       [ 0.00328754],\n",
       "       [ 0.00947052],\n",
       "       [ 0.02089045],\n",
       "       [ 0.00850185],\n",
       "       [ 0.01838416],\n",
       "       [ 0.01747907],\n",
       "       [-0.00597545],\n",
       "       [-0.01614126],\n",
       "       [ 0.03457294],\n",
       "       [-0.02064287],\n",
       "       [ 0.01533461],\n",
       "       [ 0.03059581],\n",
       "       [ 0.01286693],\n",
       "       [ 0.01100746],\n",
       "       [-0.01380051],\n",
       "       [ 0.02914951],\n",
       "       [ 0.00124885],\n",
       "       [ 0.00340064],\n",
       "       [ 0.01420032],\n",
       "       [ 0.00997179],\n",
       "       [-0.0201697 ],\n",
       "       [ 0.02708504],\n",
       "       [-0.01790309],\n",
       "       [ 0.01355683],\n",
       "       [ 0.0036432 ],\n",
       "       [-0.00701049],\n",
       "       [-0.00988946],\n",
       "       [ 0.03306099],\n",
       "       [-0.01311862],\n",
       "       [ 0.00698885],\n",
       "       [ 0.00544144],\n",
       "       [-0.02002741],\n",
       "       [ 0.00483019],\n",
       "       [-0.0345234 ],\n",
       "       [-0.02805524],\n",
       "       [ 0.05010904],\n",
       "       [-0.01359535],\n",
       "       [-0.01936576],\n",
       "       [-0.03042123],\n",
       "       [ 0.0060323 ],\n",
       "       [ 0.03923489],\n",
       "       [ 0.01669236],\n",
       "       [ 0.00612807],\n",
       "       [ 0.00936447],\n",
       "       [ 0.02014337],\n",
       "       [ 0.00937935],\n",
       "       [ 0.00414322],\n",
       "       [-0.01396796],\n",
       "       [ 0.01334075],\n",
       "       [ 0.01640919],\n",
       "       [ 0.01047384],\n",
       "       [ 0.0224591 ],\n",
       "       [-0.00193525],\n",
       "       [ 0.00672689],\n",
       "       [ 0.00958037],\n",
       "       [ 0.00162072],\n",
       "       [ 0.01212157],\n",
       "       [-0.00013837],\n",
       "       [ 0.00971083],\n",
       "       [ 0.00832253],\n",
       "       [ 0.00872682],\n",
       "       [ 0.0045576 ],\n",
       "       [ 0.02138831],\n",
       "       [-0.02104726],\n",
       "       [-0.01401201],\n",
       "       [ 0.00299603],\n",
       "       [ 0.00843921],\n",
       "       [ 0.00118755],\n",
       "       [ 0.02233358],\n",
       "       [ 0.01505085],\n",
       "       [ 0.00355188],\n",
       "       [-0.04025945],\n",
       "       [ 0.00369445],\n",
       "       [-0.04852958],\n",
       "       [ 0.05729022],\n",
       "       [ 0.01797253],\n",
       "       [ 0.01258761],\n",
       "       [ 0.02016119],\n",
       "       [-0.03786896],\n",
       "       [ 0.04343624],\n",
       "       [ 0.00529022],\n",
       "       [-0.00474535],\n",
       "       [ 0.00856223],\n",
       "       [ 0.00721496],\n",
       "       [ 0.01603096],\n",
       "       [ 0.02035355],\n",
       "       [-0.00433829],\n",
       "       [-0.04064164],\n",
       "       [-0.10606826],\n",
       "       [ 0.07595537],\n",
       "       [ 0.03343771],\n",
       "       [ 0.00237422],\n",
       "       [ 0.04934225],\n",
       "       [ 0.02646161],\n",
       "       [-0.02183082],\n",
       "       [-0.00959832],\n",
       "       [ 0.06035635],\n",
       "       [ 0.02383974],\n",
       "       [-0.00782625],\n",
       "       [ 0.00827022],\n",
       "       [ 0.02323344],\n",
       "       [ 0.02317039],\n",
       "       [ 0.00119576],\n",
       "       [ 0.01452064],\n",
       "       [ 0.00877365],\n",
       "       [ 0.01364415],\n",
       "       [-0.02252421],\n",
       "       [ 0.02506139],\n",
       "       [-0.01120154],\n",
       "       [ 0.02931503],\n",
       "       [-0.03727714],\n",
       "       [-0.01823263],\n",
       "       [ 0.00663299],\n",
       "       [-0.05964764],\n",
       "       [ 0.00799516],\n",
       "       [-0.07290811],\n",
       "       [ 0.0715775 ],\n",
       "       [-0.04132611],\n",
       "       [-0.05917837],\n",
       "       [ 0.0493023 ],\n",
       "       [ 0.03925778],\n",
       "       [-0.03443351],\n",
       "       [ 0.04347652],\n",
       "       [-0.02197231],\n",
       "       [ 0.02399356],\n",
       "       [ 0.0058803 ],\n",
       "       [-0.0064155 ],\n",
       "       [ 0.03411831],\n",
       "       [ 0.01756967],\n",
       "       [-0.00726383],\n",
       "       [-0.02953693],\n",
       "       [-0.01606061],\n",
       "       [ 0.06155036],\n",
       "       [ 0.03395338],\n",
       "       [ 0.0054001 ],\n",
       "       [ 0.02108325],\n",
       "       [ 0.01741846],\n",
       "       [-0.02524863],\n",
       "       [ 0.02182813]])"
      ]
     },
     "execution_count": 7,
     "metadata": {},
     "output_type": "execute_result"
    }
   ],
   "source": [
    "# Calculate fitted values\n",
    "\n",
    "model_multiple.predict(X)\n",
    "\n",
    "# R-squared\n"
   ]
  },
  {
   "cell_type": "markdown",
   "id": "abfba224",
   "metadata": {},
   "source": [
    "## 4. \n",
    "How do the SPY betas differ across the univariate and multivariate models? How does this relate to the\n",
    "correlation between $r^{\\spy}$ and $r^{\\hyg}$?\n"
   ]
  },
  {
   "cell_type": "markdown",
   "id": "3f0bb353",
   "metadata": {},
   "source": [
    "The SPY beta of the univariate regression is larger than the beta of the multivariate model. \n",
    "This is because there is a positive correlation between $r^{SPY}$ and $r^{HYG}$. The multivariate model consider the effect of the feature keeping the other variables constant.\n"
   ]
  },
  {
   "cell_type": "markdown",
   "id": "6135f04f",
   "metadata": {},
   "source": [
    "## 5. \n",
    "Without doing any calculation, would you expect the sample residual of the univariate regression or multivariate regression to have higher correlation to $r^{\\hyg}$?"
   ]
  },
  {
   "cell_type": "markdown",
   "id": "125dba2a",
   "metadata": {},
   "source": [
    "I would expect them to have a higher correlation to $r^{hyg}$ because the residual will capture some of the information that $r^{hyg}$ provides and that is consider in the multivariate regression. \n",
    "As we noticed, the returns on SPY and HYG have a positive correlation and if we do not include this variable as in the single linear regression, we will be ignoring this correlation and will be captured by the residual, implying a higher correlation."
   ]
  },
  {
   "cell_type": "markdown",
   "id": "9218dd8d",
   "metadata": {},
   "source": [
    "***"
   ]
  },
  {
   "cell_type": "markdown",
   "id": "6f523d10",
   "metadata": {},
   "source": [
    "# 2. Decomposing and Replicating"
   ]
  },
  {
   "cell_type": "markdown",
   "id": "8588ea56",
   "metadata": {},
   "source": [
    "## 1.\n",
    "The portfolio return, $r_t^p$, is a combination of the base assets that are provided here. Use linear regression to uncover which weights were used in constructing the portfolio.\n",
    "\n",
    "$$r_t^p = \\alpha +\\left(\\boldsymbol{\\beta}\\right)' \\boldsymbol{r}_t + \\epsilon_t$$\n",
    "\n",
    "where $\\boldsymbol{r}$ denotes the vector of returns for the individual securities.\n",
    "* What does the regression find were the original weights?\n",
    "* How precise is the estimation? Consider the R-squared and t-stats.\n",
    "\n",
    "*Feel free to include an $\\alpha$ in this model, even though you know the portfolio is an exact function of the individual securities. The estimation should find $\\alpha$ of (nearly) zero.*\n",
    "\n"
   ]
  },
  {
   "cell_type": "code",
   "execution_count": 8,
   "id": "de7494f9",
   "metadata": {},
   "outputs": [
    {
     "name": "stdout",
     "output_type": "stream",
     "text": [
      "Index(['SPY', 'EFA', 'EEM', 'PSP', 'QAI', 'HYG', 'DBC', 'IYR', 'IEF', 'BWX',\n",
      "       'TIP', 'SHV'],\n",
      "      dtype='object')\n",
      "[[-5.51924535e-16 -8.88178420e-16 -7.48774613e-16  2.50000000e-01\n",
      "   2.50000000e-01  1.06625309e-16 -4.10799608e-16  2.50000000e-01\n",
      "   2.50000000e-01 -1.42012443e-16 -5.25348191e-16  2.10800475e-16]]\n",
      "  Feature  Coefficient\n",
      "8     IEF         0.25\n",
      "4     QAI         0.25\n",
      "7     IYR         0.25\n",
      "3     PSP         0.25\n"
     ]
    }
   ],
   "source": [
    "model_weights = etf_returns.drop(columns='Date')\n",
    "\n",
    "model_multiple_weights = LinearRegression()\n",
    "model_multiple_weights.fit(model_weights, portfolio_returns)\n",
    "\n",
    "# Get the feature names and coefficients\n",
    "feature_names = model_weights.columns\n",
    "coefficients = model_multiple_weights.coef_\n",
    "print(feature_names)\n",
    "print(coefficients)\n",
    "\n",
    "# Create a DataFrame to associate feature names with coefficients\n",
    "coefficients_df = pd.DataFrame({\n",
    "    'Feature': feature_names,\n",
    "    'Coefficient': coefficients[0]\n",
    "})\n",
    "\n",
    "# Sort the DataFrame by the absolute value of coefficients in descending order\n",
    "sorted_coefficients_df = coefficients_df.reindex(coefficients_df['Coefficient'].abs().sort_values(ascending=False).index)\n",
    "\n",
    "# Get the top 4 features with the largest absolute coefficients\n",
    "top_4_features = sorted_coefficients_df.head(4)\n",
    "print(top_4_features)\n",
    "\n"
   ]
  },
  {
   "cell_type": "markdown",
   "id": "21f9c437",
   "metadata": {},
   "source": [
    "We can note that most of the coefficients are extremely close to zero. #Why aren't they zero?#\n",
    "The coefficients that are not zero, are: . Each of them have a 25% share. \n",
    "The portfolio is constructed with IEF, QAI, IYR, and PSP"
   ]
  },
  {
   "cell_type": "markdown",
   "id": "4ad4bf01",
   "metadata": {},
   "source": [
    "## 2.\n",
    "\n",
    "$$\\newcommand{\\targ}{EEM}$$\n",
    "\n",
    "Suppose that we want to mimic a return, **EEM** using the other returns. Run the following regression–but\n",
    "do so **only using data through the end of 2020.**\n",
    "\n",
    "$$r_t^{\\targ} = \\alpha +\\left(\\boldsymbol{\\beta}^{\\boldsymbol{r}}\\right)' \\boldsymbol{r}_t + \\epsilon_t$$\n",
    "\n",
    "where $\\boldsymbol{r}$ denotes the vector of returns for the other securities, excluding the target, **EEM**.\n",
    "\n",
    "#### (a) \n",
    "Report the r-squared and the estimate of the vector, $\\boldsymbol{\\beta}$.\n"
   ]
  },
  {
   "cell_type": "code",
   "execution_count": 9,
   "id": "75fa469b",
   "metadata": {},
   "outputs": [
    {
     "name": "stdout",
     "output_type": "stream",
     "text": [
      "R^2: 0.8203279417524802\n",
      "Estimated Coefficients: [[-1.12086978e-01  4.99741014e-01 -3.53773592e-03  7.60848514e-01\n",
      "   3.01275262e-01 -7.86440637e-03  6.82931532e-02 -9.81503759e-01\n",
      "   5.45010309e-01  6.94261460e-01  3.56907405e+00]]\n"
     ]
    }
   ],
   "source": [
    "# Filter data up to the end of 2020 and prepare target and predictors\n",
    "X = etf_returns[etf_returns['Date'] <= '2020-12-31'].drop(columns=['Date', 'EEM'])\n",
    "y = etf_returns[etf_returns['Date'] <= '2020-12-31'][['EEM']]\n",
    "\n",
    "\n",
    "# Initialize and fit the model\n",
    "model = LinearRegression()\n",
    "model.fit(X, y)\n",
    "\n",
    "# Display results\n",
    "#print(f\"R-squared: {r_squared}\")\n",
    "print(f\"R^2: {model.score(X, y)}\") # To test if both methods give the same result\n",
    "print(f\"Estimated Coefficients: {model.coef_}\")\n"
   ]
  },
  {
   "cell_type": "markdown",
   "id": "ab4c257b",
   "metadata": {},
   "source": [
    "#### (b) \n",
    "Report the t-stats of the explanatory returns. Which have absolute value greater than 2?\n"
   ]
  },
  {
   "cell_type": "code",
   "execution_count": 10,
   "id": "eacb4924",
   "metadata": {},
   "outputs": [
    {
     "name": "stdout",
     "output_type": "stream",
     "text": [
      "                            OLS Regression Results                            \n",
      "==============================================================================\n",
      "Dep. Variable:                    EEM   R-squared:                       0.820\n",
      "Model:                            OLS   Adj. R-squared:                  0.805\n",
      "Method:                 Least Squares   F-statistic:                     53.54\n",
      "Date:                Thu, 08 Aug 2024   Prob (F-statistic):           1.09e-42\n",
      "Time:                        19:17:14   Log-Likelihood:                 323.57\n",
      "No. Observations:                 141   AIC:                            -623.1\n",
      "Df Residuals:                     129   BIC:                            -587.8\n",
      "Df Model:                          11                                         \n",
      "Covariance Type:            nonrobust                                         \n",
      "==============================================================================\n",
      "                 coef    std err          t      P>|t|      [0.025      0.975]\n",
      "------------------------------------------------------------------------------\n",
      "const         -0.0013      0.003     -0.436      0.664      -0.007       0.004\n",
      "SPY           -0.1121      0.153     -0.732      0.466      -0.415       0.191\n",
      "EFA            0.4997      0.137      3.648      0.000       0.229       0.771\n",
      "PSP           -0.0035      0.114     -0.031      0.975      -0.228       0.221\n",
      "QAI            0.7608      0.381      1.998      0.048       0.008       1.514\n",
      "HYG            0.3013      0.180      1.674      0.097      -0.055       0.657\n",
      "DBC           -0.0079      0.067     -0.117      0.907      -0.141       0.125\n",
      "IYR            0.0683      0.078      0.880      0.381      -0.085       0.222\n",
      "IEF           -0.9815      0.280     -3.508      0.001      -1.535      -0.428\n",
      "BWX            0.5450      0.165      3.302      0.001       0.218       0.872\n",
      "TIP            0.6943      0.294      2.361      0.020       0.112       1.276\n",
      "SHV            3.5691      2.954      1.208      0.229      -2.275       9.413\n",
      "==============================================================================\n",
      "Omnibus:                        1.905   Durbin-Watson:                   2.324\n",
      "Prob(Omnibus):                  0.386   Jarque-Bera (JB):                1.469\n",
      "Skew:                          -0.010   Prob(JB):                        0.480\n",
      "Kurtosis:                       2.500   Cond. No.                     1.38e+03\n",
      "==============================================================================\n",
      "\n",
      "Notes:\n",
      "[1] Standard Errors assume that the covariance matrix of the errors is correctly specified.\n",
      "[2] The condition number is large, 1.38e+03. This might indicate that there are\n",
      "strong multicollinearity or other numerical problems.\n"
     ]
    }
   ],
   "source": [
    "# Add constant to predictors for intercept term\n",
    "X_with_const = sm.add_constant(X)\n",
    "\n",
    "# Fit the model using statsmodels\n",
    "model_ols = sm.OLS(y, X_with_const).fit()\n",
    "print(model_ols.summary())\n",
    "\n",
    "fitted_values = model_ols.fittedvalues"
   ]
  },
  {
   "cell_type": "markdown",
   "id": "571d1b31",
   "metadata": {},
   "source": [
    "We can note that the only ETFs with a t-stat greater than 2 in absolute value are EFA, IEF (negative), BWX, and TIP."
   ]
  },
  {
   "cell_type": "markdown",
   "id": "ffddb51e",
   "metadata": {},
   "source": [
    "#### (c) \n",
    "Plot the returns of **EEM** along with the replication values.\n"
   ]
  },
  {
   "cell_type": "code",
   "execution_count": 11,
   "id": "24646498",
   "metadata": {},
   "outputs": [
    {
     "data": {
      "image/png": "[encoded data removed]",
      "text/plain": [
       "<Figure size 1000x600 with 1 Axes>"
      ]
     },
     "metadata": {},
     "output_type": "display_data"
    }
   ],
   "source": [
    "# Plot the returns along with the replication values\n",
    "plt.figure(figsize=(10, 6))\n",
    "plt.plot(y, label='EEM Returns', marker='o')\n",
    "plt.plot(fitted_values, label='Replication Values', marker='x')\n",
    "plt.xlabel('Time')\n",
    "plt.ylabel('Values')\n",
    "plt.title('EEM Returns and Replication Values')\n",
    "plt.legend()\n",
    "plt.show()"
   ]
  },
  {
   "cell_type": "markdown",
   "id": "db1f35ad",
   "metadata": {},
   "source": [
    "## 3.\n",
    "Perhaps the replication results in the previous problem are overstated given that they estimated the parameters within a sample and then evaluated how well the result fit in the same sample. This is known as in-sample fit.\n",
    "\n",
    "Using the estimates through **2020**, (the α and βˆ from the previous problem,) calculate the out-of-sample (OOS) values of the replication, using the **2021-2023** returns, denoted $\\boldsymbol{r}_t^{\\text{oos}}$:\n",
    "\n",
    "$$\\hat{r}_t^{\\targ} = \\left(\\widehat{\\boldsymbol{\\beta}}^{\\boldsymbol{r}}\\right)' \\boldsymbol{r}_t^{\\text{oos}}$$\n",
    "\n"
   ]
  },
  {
   "cell_type": "code",
   "execution_count": 12,
   "id": "8d45eb46",
   "metadata": {},
   "outputs": [
    {
     "data": {
      "text/html": [
       "<div>\n",
       "<style scoped>\n",
       "    .dataframe tbody tr th:only-of-type {\n",
       "        vertical-align: middle;\n",
       "    }\n",
       "\n",
       "    .dataframe tbody tr th {\n",
       "        vertical-align: top;\n",
       "    }\n",
       "\n",
       "    .dataframe thead th {\n",
       "        text-align: right;\n",
       "    }\n",
       "</style>\n",
       "<table border=\"1\" class=\"dataframe\">\n",
       "  <thead>\n",
       "    <tr style=\"text-align: right;\">\n",
       "      <th></th>\n",
       "      <th>Estimated_OOS_Returns</th>\n",
       "    </tr>\n",
       "  </thead>\n",
       "  <tbody>\n",
       "    <tr>\n",
       "      <th>141</th>\n",
       "      <td>0.000651</td>\n",
       "    </tr>\n",
       "    <tr>\n",
       "      <th>142</th>\n",
       "      <td>0.005023</td>\n",
       "    </tr>\n",
       "    <tr>\n",
       "      <th>143</th>\n",
       "      <td>0.014466</td>\n",
       "    </tr>\n",
       "    <tr>\n",
       "      <th>144</th>\n",
       "      <td>0.028016</td>\n",
       "    </tr>\n",
       "    <tr>\n",
       "      <th>145</th>\n",
       "      <td>0.028650</td>\n",
       "    </tr>\n",
       "    <tr>\n",
       "      <th>146</th>\n",
       "      <td>-0.017094</td>\n",
       "    </tr>\n",
       "    <tr>\n",
       "      <th>147</th>\n",
       "      <td>0.007176</td>\n",
       "    </tr>\n",
       "    <tr>\n",
       "      <th>148</th>\n",
       "      <td>0.003962</td>\n",
       "    </tr>\n",
       "    <tr>\n",
       "      <th>149</th>\n",
       "      <td>-0.030231</td>\n",
       "    </tr>\n",
       "    <tr>\n",
       "      <th>150</th>\n",
       "      <td>0.026773</td>\n",
       "    </tr>\n",
       "    <tr>\n",
       "      <th>151</th>\n",
       "      <td>-0.048431</td>\n",
       "    </tr>\n",
       "    <tr>\n",
       "      <th>152</th>\n",
       "      <td>0.042481</td>\n",
       "    </tr>\n",
       "    <tr>\n",
       "      <th>153</th>\n",
       "      <td>-0.053985</td>\n",
       "    </tr>\n",
       "    <tr>\n",
       "      <th>154</th>\n",
       "      <td>-0.024672</td>\n",
       "    </tr>\n",
       "    <tr>\n",
       "      <th>155</th>\n",
       "      <td>-0.002219</td>\n",
       "    </tr>\n",
       "    <tr>\n",
       "      <th>156</th>\n",
       "      <td>-0.078612</td>\n",
       "    </tr>\n",
       "    <tr>\n",
       "      <th>157</th>\n",
       "      <td>-0.000769</td>\n",
       "    </tr>\n",
       "    <tr>\n",
       "      <th>158</th>\n",
       "      <td>-0.127504</td>\n",
       "    </tr>\n",
       "    <tr>\n",
       "      <th>159</th>\n",
       "      <td>0.069707</td>\n",
       "    </tr>\n",
       "    <tr>\n",
       "      <th>160</th>\n",
       "      <td>-0.059723</td>\n",
       "    </tr>\n",
       "    <tr>\n",
       "      <th>161</th>\n",
       "      <td>-0.119904</td>\n",
       "    </tr>\n",
       "    <tr>\n",
       "      <th>162</th>\n",
       "      <td>0.072719</td>\n",
       "    </tr>\n",
       "    <tr>\n",
       "      <th>163</th>\n",
       "      <td>0.136345</td>\n",
       "    </tr>\n",
       "    <tr>\n",
       "      <th>164</th>\n",
       "      <td>0.000209</td>\n",
       "    </tr>\n",
       "    <tr>\n",
       "      <th>165</th>\n",
       "      <td>0.086579</td>\n",
       "    </tr>\n",
       "    <tr>\n",
       "      <th>166</th>\n",
       "      <td>-0.022171</td>\n",
       "    </tr>\n",
       "    <tr>\n",
       "      <th>167</th>\n",
       "      <td>0.046715</td>\n",
       "    </tr>\n",
       "    <tr>\n",
       "      <th>168</th>\n",
       "      <td>0.018741</td>\n",
       "    </tr>\n",
       "    <tr>\n",
       "      <th>169</th>\n",
       "      <td>-0.029348</td>\n",
       "    </tr>\n",
       "    <tr>\n",
       "      <th>170</th>\n",
       "      <td>0.071273</td>\n",
       "    </tr>\n",
       "    <tr>\n",
       "      <th>171</th>\n",
       "      <td>0.052724</td>\n",
       "    </tr>\n",
       "    <tr>\n",
       "      <th>172</th>\n",
       "      <td>-0.019490</td>\n",
       "    </tr>\n",
       "    <tr>\n",
       "      <th>173</th>\n",
       "      <td>-0.019542</td>\n",
       "    </tr>\n",
       "    <tr>\n",
       "      <th>174</th>\n",
       "      <td>-0.005647</td>\n",
       "    </tr>\n",
       "    <tr>\n",
       "      <th>175</th>\n",
       "      <td>0.102963</td>\n",
       "    </tr>\n",
       "    <tr>\n",
       "      <th>176</th>\n",
       "      <td>0.077207</td>\n",
       "    </tr>\n",
       "    <tr>\n",
       "      <th>177</th>\n",
       "      <td>-0.012377</td>\n",
       "    </tr>\n",
       "    <tr>\n",
       "      <th>178</th>\n",
       "      <td>0.043399</td>\n",
       "    </tr>\n",
       "    <tr>\n",
       "      <th>179</th>\n",
       "      <td>0.041284</td>\n",
       "    </tr>\n",
       "    <tr>\n",
       "      <th>180</th>\n",
       "      <td>-0.019063</td>\n",
       "    </tr>\n",
       "    <tr>\n",
       "      <th>181</th>\n",
       "      <td>0.048164</td>\n",
       "    </tr>\n",
       "  </tbody>\n",
       "</table>\n",
       "</div>"
      ],
      "text/plain": [
       "     Estimated_OOS_Returns\n",
       "141               0.000651\n",
       "142               0.005023\n",
       "143               0.014466\n",
       "144               0.028016\n",
       "145               0.028650\n",
       "146              -0.017094\n",
       "147               0.007176\n",
       "148               0.003962\n",
       "149              -0.030231\n",
       "150               0.026773\n",
       "151              -0.048431\n",
       "152               0.042481\n",
       "153              -0.053985\n",
       "154              -0.024672\n",
       "155              -0.002219\n",
       "156              -0.078612\n",
       "157              -0.000769\n",
       "158              -0.127504\n",
       "159               0.069707\n",
       "160              -0.059723\n",
       "161              -0.119904\n",
       "162               0.072719\n",
       "163               0.136345\n",
       "164               0.000209\n",
       "165               0.086579\n",
       "166              -0.022171\n",
       "167               0.046715\n",
       "168               0.018741\n",
       "169              -0.029348\n",
       "170               0.071273\n",
       "171               0.052724\n",
       "172              -0.019490\n",
       "173              -0.019542\n",
       "174              -0.005647\n",
       "175               0.102963\n",
       "176               0.077207\n",
       "177              -0.012377\n",
       "178               0.043399\n",
       "179               0.041284\n",
       "180              -0.019063\n",
       "181               0.048164"
      ]
     },
     "execution_count": 12,
     "metadata": {},
     "output_type": "execute_result"
    }
   ],
   "source": [
    "estimated_oos_returns = model.predict(etf_returns[etf_returns['Date'] > '2020-12-31'].drop(columns=['Date', 'EEM']))\n",
    "#oos_model.fit(etf_returns[etf_returns['Date'] > '2020-12-31'].drop(columns=['Date', 'EEM']), etf_returns[etf_returns['Date'] > '2020-12-31'][['EEM']])\n",
    "\n",
    "# Ensure estimated_oos_returns is a DataFrame\n",
    "estimated_oos_returns = pd.DataFrame(estimated_oos_returns, index=etf_returns[etf_returns['Date'] > '2020-12-31'].index, columns=['Estimated_OOS_Returns'])\n",
    "\n",
    "\n",
    "estimated_oos_returns\n"
   ]
  },
  {
   "cell_type": "markdown",
   "id": "2ac1bcd4",
   "metadata": {},
   "source": [
    "#### (a) \n",
    "What is the correlation between $\\hat{r}_t^{\\targ}$ and $\\boldsymbol{r}_t^{\\text{oos}}$?\n"
   ]
  },
  {
   "cell_type": "code",
   "execution_count": 13,
   "id": "656b656f",
   "metadata": {},
   "outputs": [
    {
     "data": {
      "text/plain": [
       "np.float64(0.8026459963768255)"
      ]
     },
     "execution_count": 13,
     "metadata": {},
     "output_type": "execute_result"
    }
   ],
   "source": [
    "actual_returns = etf_returns[etf_returns['Date'] > '2020-12-31'][['EEM']] \n",
    "\n",
    "combined_df = actual_returns.join(estimated_oos_returns)\n",
    "\n",
    "combined_df.corr().loc['EEM', 'Estimated_OOS_Returns']\n"
   ]
  },
  {
   "cell_type": "markdown",
   "id": "daa880c4",
   "metadata": {},
   "source": [
    "\n",
    "#### (b) \n",
    "How does this compare to the r-squared from the regression above based on in-sample data, (through 2020?)"
   ]
  },
  {
   "cell_type": "markdown",
   "id": "9546d710",
   "metadata": {},
   "source": [
    "***"
   ]
  },
  {
   "cell_type": "markdown",
   "id": "ffcfd520",
   "metadata": {},
   "source": [
    "The R-squared is very similar to the version based on in sample data (through 2020)."
   ]
  }
 ],
 "metadata": {
  "hide_input": true,
  "kernelspec": {
   "display_name": "Python 3 (ipykernel)",
   "language": "python",
   "name": "python3"
  },
  "language_info": {
   "codemirror_mode": {
    "name": "ipython",
    "version": 3
   },
   "file_extension": ".py",
   "mimetype": "text/x-python",
   "name": "python",
   "nbconvert_exporter": "python",
   "pygments_lexer": "ipython3",
   "version": "3.11.0"
  },
  "toc": {
   "base_numbering": 1,
   "nav_menu": {},
   "number_sections": false,
   "sideBar": true,
   "skip_h1_title": false,
   "title_cell": "Table of Contents",
   "title_sidebar": "Contents",
   "toc_cell": false,
   "toc_position": {},
   "toc_section_display": true,
   "toc_window_display": false
  },
  "varInspector": {
   "cols": {
    "lenName": 16,
    "lenType": 16,
    "lenVar": 40
   },
   "kernels_config": {
    "python": {
     "delete_cmd_postfix": "",
     "delete_cmd_prefix": "del ",
     "library": "var_list.py",
     "varRefreshCmd": "print(var_dic_list())"
    },
    "r": {
     "delete_cmd_postfix": ") ",
     "delete_cmd_prefix": "rm(",
     "library": "var_list.r",
     "varRefreshCmd": "cat(var_dic_list()) "
    }
   },
   "types_to_exclude": [
    "module",
    "function",
    "builtin_function_or_method",
    "instance",
    "_Feature"
   ],
   "window_display": false
  }
 },
 "nbformat": 4,
 "nbformat_minor": 5
}
