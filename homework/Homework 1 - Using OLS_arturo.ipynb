{
 "cells": [
  {
   "cell_type": "markdown",
   "id": "ce9737a3",
   "metadata": {},
   "source": [
    "# Homework 1 - Using OLS\n",
    "## Data Analysis\n",
    "### FINM August Review \n",
    "\n",
    "Mark Hendricks\n",
    "\n",
    "hendricks@uchicago.edu"
   ]
  },
  {
   "cell_type": "markdown",
   "id": "1ff90b93",
   "metadata": {},
   "source": [
    "$$\\newcommand{\\spy}{\\text{spy}}$$\n",
    "$$\\newcommand{\\hyg}{\\text{hyg}}$$\n",
    "\n",
    "# Data\n",
    "* This homework uses the file, `data/multi_asset_etf_data.xlsx`.\n",
    "* Find the data in the Github repo associated with the module, (link on Canvas.)\n",
    "\n",
    "The data file contains...\n",
    "* Return rates, $r_t^i$, for various asset classes, (via ETFs.)\n",
    "* Most notable among these securities is SPY, the return on the S&P 500. Denote this as $r^{\\spy}_t$.\n",
    "* A separate tab gives return rates for a particular portfolio, $r_t^p$."
   ]
  },
  {
   "cell_type": "markdown",
   "id": "d84a7268-c6d7-44a8-9448-b0fa710991e0",
   "metadata": {},
   "source": [
    "***"
   ]
  },
  {
   "cell_type": "markdown",
   "id": "3d6742cb",
   "metadata": {},
   "source": [
    "# 1. Regression\n",
    "## 1. \n",
    "Estimate the regression of the portfolio return on SPY:\n",
    "\n",
    "$$r^p_t = \\alpha + \\beta r^{\\spy}_t + \\epsilon_t^{p,\\spy}$$\n",
    "\n",
    "Specifically, report your estimates of alpha, beta, and the r-squared.\n"
   ]
  },
  {
   "cell_type": "code",
   "execution_count": 14,
   "id": "a43d0d4a",
   "metadata": {},
   "outputs": [],
   "source": [
    "# PACKAGES\n",
    "import pandas as pd\n",
    "import numpy as np\n",
    "from sklearn.linear_model import LinearRegression\n"
   ]
  },
  {
   "cell_type": "code",
   "execution_count": 13,
   "id": "116cd21d",
   "metadata": {},
   "outputs": [
    {
     "data": {
      "text/html": [
       "<div>\n",
       "<style scoped>\n",
       "    .dataframe tbody tr th:only-of-type {\n",
       "        vertical-align: middle;\n",
       "    }\n",
       "\n",
       "    .dataframe tbody tr th {\n",
       "        vertical-align: top;\n",
       "    }\n",
       "\n",
       "    .dataframe thead th {\n",
       "        text-align: right;\n",
       "    }\n",
       "</style>\n",
       "<table border=\"1\" class=\"dataframe\">\n",
       "  <thead>\n",
       "    <tr style=\"text-align: right;\">\n",
       "      <th></th>\n",
       "      <th>volume</th>\n",
       "      <th>totalAssets</th>\n",
       "    </tr>\n",
       "  </thead>\n",
       "  <tbody>\n",
       "    <tr>\n",
       "      <th>count</th>\n",
       "      <td>1.200000e+01</td>\n",
       "      <td>1.200000e+01</td>\n",
       "    </tr>\n",
       "    <tr>\n",
       "      <th>mean</th>\n",
       "      <td>1.083890e+07</td>\n",
       "      <td>5.798811e+10</td>\n",
       "    </tr>\n",
       "    <tr>\n",
       "      <th>std</th>\n",
       "      <td>1.614825e+07</td>\n",
       "      <td>1.505293e+11</td>\n",
       "    </tr>\n",
       "    <tr>\n",
       "      <th>min</th>\n",
       "      <td>7.955000e+03</td>\n",
       "      <td>2.486978e+08</td>\n",
       "    </tr>\n",
       "    <tr>\n",
       "      <th>25%</th>\n",
       "      <td>7.061972e+05</td>\n",
       "      <td>1.559276e+09</td>\n",
       "    </tr>\n",
       "    <tr>\n",
       "      <th>50%</th>\n",
       "      <td>2.607238e+06</td>\n",
       "      <td>1.749689e+10</td>\n",
       "    </tr>\n",
       "    <tr>\n",
       "      <th>75%</th>\n",
       "      <td>1.588653e+07</td>\n",
       "      <td>2.156021e+10</td>\n",
       "    </tr>\n",
       "    <tr>\n",
       "      <th>max</th>\n",
       "      <td>5.136419e+07</td>\n",
       "      <td>5.333503e+11</td>\n",
       "    </tr>\n",
       "  </tbody>\n",
       "</table>\n",
       "</div>"
      ],
      "text/plain": [
       "             volume   totalAssets\n",
       "count  1.200000e+01  1.200000e+01\n",
       "mean   1.083890e+07  5.798811e+10\n",
       "std    1.614825e+07  1.505293e+11\n",
       "min    7.955000e+03  2.486978e+08\n",
       "25%    7.061972e+05  1.559276e+09\n",
       "50%    2.607238e+06  1.749689e+10\n",
       "75%    1.588653e+07  2.156021e+10\n",
       "max    5.136419e+07  5.333503e+11"
      ]
     },
     "execution_count": 13,
     "metadata": {},
     "output_type": "execute_result"
    }
   ],
   "source": [
    "# Read the data\n",
    "multi_asset = pd.read_excel(r'../data/multi_asset_etf_data.xlsx')\n",
    "\n",
    "multi_asset.head(5)\n",
    "\n"
   ]
  },
  {
   "cell_type": "code",
   "execution_count": null,
   "id": "3be441ee",
   "metadata": {},
   "outputs": [],
   "source": [
    "# Do the regression and show the coefficients\n"
   ]
  },
  {
   "cell_type": "markdown",
   "id": "a70952da",
   "metadata": {},
   "source": [
    "\n",
    "## 2. \n",
    "Estimate the regression of the portfolio return on SPY and on HYG, the return on high-yield\n",
    "corporate bonds, denoted as $r^{\\hyg}_t$:\n",
    "\n",
    "$$r^p_t = {\\alpha} + {\\beta}^{\\spy}r^{\\spy}_t + {\\beta}^{\\hyg}r^{\\hyg}_t + {\\epsilon}_t$$\n",
    "\n",
    "Specifically, report your estimates of alpha, the betas, and the r-squared.\n",
    "\n",
    "*Note that the parameters (such as $\\beta^{\\spy}$) in this multivariate model are not the same as used in the univariate model of part 1. \n",
    "\n"
   ]
  },
  {
   "cell_type": "code",
   "execution_count": null,
   "id": "4d5aef65",
   "metadata": {},
   "outputs": [],
   "source": []
  },
  {
   "cell_type": "code",
   "execution_count": null,
   "id": "6621782f",
   "metadata": {},
   "outputs": [],
   "source": []
  },
  {
   "cell_type": "markdown",
   "id": "12f03e1c",
   "metadata": {},
   "source": [
    "\n",
    "\n",
    "## 3. \n",
    "Calculate the series of fitted regression values, sometimes referred to as $\\hat{y}$ in standard textbooks:\n",
    "\n",
    "$$\\hat{r}^p_t = \\hat{\\alpha} + \\hat{\\beta}^{\\spy}r^{\\spy}_t + \\hat{\\beta}^{\\hyg}r^{\\hyg}_t$$\n",
    "\n",
    "Your statistical package will output these fitted values for you, or you can construct them using the estimated parameters.\n",
    "\n",
    "How does this compare to the r-squared of the regression in problem 2?\n"
   ]
  },
  {
   "cell_type": "markdown",
   "id": "abfba224",
   "metadata": {},
   "source": [
    "\n",
    "\n",
    "## 4. \n",
    "How do the SPY betas differ across the univariate and multivariate models? How does this relate to the\n",
    "correlation between $r^{\\spy}$ and $r^{\\hyg}$?\n",
    "\n"
   ]
  },
  {
   "cell_type": "code",
   "execution_count": null,
   "id": "c3ae5968",
   "metadata": {},
   "outputs": [],
   "source": []
  },
  {
   "cell_type": "markdown",
   "id": "6135f04f",
   "metadata": {},
   "source": [
    "\n",
    "## 5. \n",
    "Without doing any calculation, would you expect the sample residual of the univariate regression or multivariate regression to have higher correlation to $r^{\\hyg}$?"
   ]
  },
  {
   "cell_type": "markdown",
   "id": "125dba2a",
   "metadata": {},
   "source": []
  },
  {
   "cell_type": "markdown",
   "id": "9218dd8d",
   "metadata": {},
   "source": [
    "***"
   ]
  },
  {
   "cell_type": "markdown",
   "id": "6f523d10",
   "metadata": {},
   "source": [
    "# 2. Decomposing and Replicating"
   ]
  },
  {
   "cell_type": "markdown",
   "id": "8588ea56",
   "metadata": {},
   "source": [
    "## 1.\n",
    "The portfolio return, $r_t^p$, is a combination of the base assets that are provided here. Use linear regression to uncover which weights were used in constructing the portfolio.\n",
    "\n",
    "$$r_t^p = \\alpha +\\left(\\boldsymbol{\\beta}\\right)' \\boldsymbol{r}_t + \\epsilon_t$$\n",
    "\n",
    "where $\\boldsymbol{r}$ denotes the vector of returns for the individual securities.\n",
    "* What does the regression find were the original weights?\n",
    "* How precise is the estimation? Consider the R-squared and t-stats.\n",
    "\n",
    "*Feel free to include an $\\alpha$ in this model, even though you know the portfolio is an exact function of the individual securities. The estimation should find $\\alpha$ of (nearly) zero.*\n",
    "\n",
    "\n",
    "## 2.\n",
    "\n",
    "$$\\newcommand{\\targ}{EEM}$$\n",
    "\n",
    "Suppose that we want to mimic a return, **EEM** using the other returns. Run the following regression–but\n",
    "do so **only using data through the end of 2020.**\n",
    "\n",
    "$$r_t^{\\targ} = \\alpha +\\left(\\boldsymbol{\\beta}^{\\boldsymbol{r}}\\right)' \\boldsymbol{r}_t + \\epsilon_t$$\n",
    "\n",
    "where $\\boldsymbol{r}$ denotes the vector of returns for the other securities, excluding the target, **EEM**.\n",
    "\n",
    "#### (a) \n",
    "Report the r-squared and the estimate of the vector, $\\boldsymbol{\\beta}$.\n",
    "\n",
    "#### (b) \n",
    "Report the t-stats of the explanatory returns. Which have absolute value greater than 2?\n",
    "\n",
    "#### (c) \n",
    "Plot the returns of **EEM** along with the replication values.\n",
    "\n",
    "## 3.\n",
    "Perhaps the replication results in the previous problem are overstated given that they estimated the parameters within a sample and then evaluated how well the result fit in the same sample. This is known as in-sample fit.\n",
    "\n",
    "Using the estimates through **2020**, (the α and βˆ from the previous problem,) calculate the out-of-sample (OOS) values of the replication, using the **2021-2023** returns, denoted $\\boldsymbol{r}_t^{\\text{oos}}$:\n",
    "\n",
    "$$\\hat{r}_t^{\\targ} = \\left(\\widehat{\\boldsymbol{\\beta}}^{\\boldsymbol{r}}\\right)' \\boldsymbol{r}_t^{\\text{oos}}$$\n",
    "\n",
    "#### (a) \n",
    "What is the correlation between $\\hat{r}_t^{\\targ}$ and $\\boldsymbol{r}_t^{\\text{oos}}$?\n",
    "\n",
    "#### (b) \n",
    "How does this compare to the r-squared from the regression above based on in-sample data, (through 2020?)"
   ]
  },
  {
   "cell_type": "markdown",
   "id": "9546d710",
   "metadata": {},
   "source": [
    "***"
   ]
  }
 ],
 "metadata": {
  "hide_input": true,
  "kernelspec": {
   "display_name": "Python 3 (ipykernel)",
   "language": "python",
   "name": "python3"
  },
  "language_info": {
   "codemirror_mode": {
    "name": "ipython",
    "version": 3
   },
   "file_extension": ".py",
   "mimetype": "text/x-python",
   "name": "python",
   "nbconvert_exporter": "python",
   "pygments_lexer": "ipython3",
   "version": "3.11.0"
  },
  "toc": {
   "base_numbering": 1,
   "nav_menu": {},
   "number_sections": false,
   "sideBar": true,
   "skip_h1_title": false,
   "title_cell": "Table of Contents",
   "title_sidebar": "Contents",
   "toc_cell": false,
   "toc_position": {},
   "toc_section_display": true,
   "toc_window_display": false
  },
  "varInspector": {
   "cols": {
    "lenName": 16,
    "lenType": 16,
    "lenVar": 40
   },
   "kernels_config": {
    "python": {
     "delete_cmd_postfix": "",
     "delete_cmd_prefix": "del ",
     "library": "var_list.py",
     "varRefreshCmd": "print(var_dic_list())"
    },
    "r": {
     "delete_cmd_postfix": ") ",
     "delete_cmd_prefix": "rm(",
     "library": "var_list.r",
     "varRefreshCmd": "cat(var_dic_list()) "
    }
   },
   "types_to_exclude": [
    "module",
    "function",
    "builtin_function_or_method",
    "instance",
    "_Feature"
   ],
   "window_display": false
  }
 },
 "nbformat": 4,
 "nbformat_minor": 5
}
